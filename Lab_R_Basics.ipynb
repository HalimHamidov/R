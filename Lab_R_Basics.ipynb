{
  "cells": [
    {
      "cell_type": "markdown",
      "metadata": {
        "id": "view-in-github",
        "colab_type": "text"
      },
      "source": [
        "<a href=\"https://colab.research.google.com/github/HalimHamidov/R/blob/main/Lab_R_Basics.ipynb\" target=\"_parent\"><img src=\"https://colab.research.google.com/assets/colab-badge.svg\" alt=\"Open In Colab\"/></a>"
      ]
    },
    {
      "cell_type": "markdown",
      "metadata": {
        "id": "6m4kMAGWqb2U"
      },
      "source": [
        "<img src=\"http://cognitiveclass.ai/wp-content/uploads/2017/11/cc-logo-square.png\" width=\"150\">\n",
        "\n",
        "<h1 align=center>R BASICS</h1> \n"
      ]
    },
    {
      "cell_type": "markdown",
      "metadata": {
        "id": "PUhRnH-Tqb2a"
      },
      "source": [
        "### Welcome!\n",
        "\n",
        "By the end of this notebook, you will have learned the basics of R!\n"
      ]
    },
    {
      "cell_type": "markdown",
      "metadata": {
        "id": "v7nz9EIKqb2c"
      },
      "source": [
        "## Table of Contents\n",
        "\n",
        "<ul>\n",
        "<li><a href=\"https://#About-the-Dataset\">About the Dataset</a></li>\n",
        "<li><a href=\"https://#Simple-Math-in-R\">Simple Math in R</a></li>\n",
        "<li><a href=\"https://#Variables-in-R\">Variables in R</a></li>\n",
        "<li><a href=\"https://#Vectors-in-R\">Vectors in R</a></li>\n",
        "<li><a href=\"https://#Strings-in-R\">Strings in R</a></li>\n",
        "</ul>\n",
        "<p></p>\n",
        "Estimated Time Needed: <strong>15 min</strong>\n",
        "\n",
        "<hr>\n"
      ]
    },
    {
      "cell_type": "markdown",
      "metadata": {
        "id": "wBYP2vVQqb2f"
      },
      "source": [
        "<a id=\"ref0\"></a>\n",
        "\n",
        "<h2 align=center>About the Dataset</h2>\n"
      ]
    },
    {
      "cell_type": "markdown",
      "metadata": {
        "id": "c3vISWmMqb2g"
      },
      "source": [
        "Which movie should you watch next?\n",
        "\n",
        "Let's say each of your friends tells you their favorite movies. You do some research on the movies and put it all into a table. Now you can begin exploring the dataset, and asking questions about the movies. For example, you can check if movies from some certain genres tend to get better ratings. You can check how the production cost for movies changes across years, and much more.\n"
      ]
    },
    {
      "cell_type": "markdown",
      "metadata": {
        "id": "UZ2zqzjxqb2i"
      },
      "source": [
        "**Movies dataset**\n",
        "\n",
        "The table gathered includes one row for each movie, with several columns for each movie characteristic:\n",
        "\n",
        "*   **name** - Name of the movie\n",
        "*   **year** - Year the movie was released\n",
        "*   **length_min** - Length of the movie (minutes)\n",
        "*   **genre** - Genre of the movie\n",
        "*   **average_rating** - Average rating on [IMDB](http://www.imdb.com/?utm_medium=Exinfluencer&utm_source=Exinfluencer&utm_content=000026UJ&utm_term=10006555&utm_id=NA-SkillsNetwork-Channel-SkillsNetworkCoursesIBMDeveloperSkillsNetworkRP0101ENSkillsNetwork20900564-2022-01-01)\n",
        "*   **cost_millions** - Movie's production cost (millions in USD)\n",
        "*   **foreign** - Is the movie foreign (1) or domestic (0)?\n",
        "*   **age_restriction** - Age restriction for the movie\n",
        "\n",
        "<br>\n"
      ]
    },
    {
      "cell_type": "markdown",
      "metadata": {
        "id": "Ax9uJxniqb2k"
      },
      "source": [
        "<img src = \"https://ibm.box.com/shared/static/6kr8sg0n6pc40zd1xn6hjhtvy3k7cmeq.png\" width = 90% align=\"left\">\n"
      ]
    },
    {
      "cell_type": "markdown",
      "metadata": {
        "id": "uxWrBTSbqb2m"
      },
      "source": [
        "### We can use R to help us explore the dataset\n",
        "\n",
        "But to begin, we'll need to start from the basics, so let's get started!\n"
      ]
    },
    {
      "cell_type": "markdown",
      "metadata": {
        "id": "G6SuoaM0qb2o"
      },
      "source": [
        "<hr>\n"
      ]
    },
    {
      "cell_type": "markdown",
      "metadata": {
        "id": "bw29e5Z7qb2q"
      },
      "source": [
        "<a id=\"ref1\"></a>\n",
        "\n",
        "<h2 align=center> Simple Math in R </h2>\n"
      ]
    },
    {
      "cell_type": "markdown",
      "metadata": {
        "id": "4O1z4zpYqb2s"
      },
      "source": [
        "Let's say you want to watch *Fight Club* and *Star Wars: Episode IV (1977)*, back-to-back. Do you have enough time to **watch both movies in 4 hours?** Let's try using simple math in R.\n"
      ]
    },
    {
      "cell_type": "markdown",
      "metadata": {
        "id": "92FOlaicqb2t"
      },
      "source": [
        "What is the **total movie length** for Fight Club and Star Wars (1977)?\n",
        "\n",
        "*   **Fight Club**: 139 min\n",
        "*   **Star Wars: Episode IV**: 121 min\n"
      ]
    },
    {
      "cell_type": "markdown",
      "metadata": {
        "id": "J0Yc41PXqb2v"
      },
      "source": [
        "<div class=\"alert alert-success alertsuccess\" style=\"margin-top: 20px\">\n",
        "**Tip**: To run the grey code cell below, click on it, and press Shift + Enter.\n",
        "</div>\n"
      ]
    },
    {
      "cell_type": "code",
      "execution_count": null,
      "metadata": {
        "jupyter": {
          "outputs_hidden": false
        },
        "colab": {
          "base_uri": "https://localhost:8080/"
        },
        "id": "P2AJujEJqb2w",
        "outputId": "33729645-bab4-4cc6-8738-caa64c8cbca5"
      },
      "outputs": [
        {
          "output_type": "execute_result",
          "data": {
            "text/plain": [
              "260"
            ]
          },
          "metadata": {},
          "execution_count": 2
        }
      ],
      "source": [
        "139 + 121 "
      ]
    },
    {
      "cell_type": "markdown",
      "metadata": {
        "id": "udrfWgawqb20"
      },
      "source": [
        "Great! You've determined that the total number of movie play time is **260 min**.\n"
      ]
    },
    {
      "cell_type": "markdown",
      "metadata": {
        "id": "bKGwrSCPqb21"
      },
      "source": [
        "**What is 260 min in hours?**\n"
      ]
    },
    {
      "cell_type": "code",
      "execution_count": null,
      "metadata": {
        "jupyter": {
          "outputs_hidden": false
        },
        "colab": {
          "base_uri": "https://localhost:8080/"
        },
        "id": "amvGZl9Yqb22",
        "outputId": "12d6d8be-b778-4567-e060-a18d5bb7fdcd"
      },
      "outputs": [
        {
          "output_type": "execute_result",
          "data": {
            "text/plain": [
              "4.333333333333333"
            ]
          },
          "metadata": {},
          "execution_count": 3
        }
      ],
      "source": [
        "260 / 60"
      ]
    },
    {
      "cell_type": "markdown",
      "metadata": {
        "id": "RiQrGiFEqb23"
      },
      "source": [
        "Well, it looks like it's **over 4 hours**, which means you can't watch *Fight Club* and *Star Wars (1977)* back-to-back if you only have 4 hours available!\n"
      ]
    },
    {
      "cell_type": "markdown",
      "metadata": {
        "id": "knA1YhGhqb24"
      },
      "source": [
        "<hr></hr>\n",
        "<div class=\"alert alert-success alertsuccess\" style=\"margin-top: 20px\">\n",
        "<h4> [Tip] Simple math in R </h4>\n",
        "<p></p>\n",
        "You can do a variety of mathematical operations in R including:  \n",
        "<li> addition: **2 + 2** </li>\n",
        "<li> subtraction: **5 - 2** </li>\n",
        "<li> multiplication: **3 \\* 2** </li>\n",
        "<li> division: **4 / 2** </li>\n",
        "<li> exponentiation: **4 \\*\\* 2** or **4 ^ 2 **</li>\n",
        "</div>\n",
        "<hr></hr>\n"
      ]
    },
    {
      "cell_type": "markdown",
      "metadata": {
        "id": "Fy7rG2XVqb26"
      },
      "source": [
        "<a id=\"ref2\"></a>\n",
        "\n",
        "<h2 align=center> Variables in R </h2>\n"
      ]
    },
    {
      "cell_type": "markdown",
      "metadata": {
        "id": "qdmaUK90qb27"
      },
      "source": [
        "We can also **store** our output in **variables**, so we can use them later on. For example:\n"
      ]
    },
    {
      "cell_type": "code",
      "execution_count": null,
      "metadata": {
        "collapsed": true,
        "jupyter": {
          "outputs_hidden": true
        },
        "colab": {
          "base_uri": "https://localhost:8080/",
          "height": 165
        },
        "id": "g5LvZMfuqb28",
        "outputId": "298108f8-c0c2-45a2-cff0-300f0b9dd9df"
      },
      "outputs": [
        {
          "output_type": "error",
          "ename": "NameError",
          "evalue": "ignored",
          "traceback": [
            "\u001b[0;31m---------------------------------------------------------------------------\u001b[0m",
            "\u001b[0;31mNameError\u001b[0m                                 Traceback (most recent call last)",
            "\u001b[0;32m<ipython-input-7-b4290a6142cf>\u001b[0m in \u001b[0;36m<module>\u001b[0;34m\u001b[0m\n\u001b[0;32m----> 1\u001b[0;31m \u001b[0mx\u001b[0m \u001b[0;34m<\u001b[0m\u001b[0;34m-\u001b[0m \u001b[0;36m139\u001b[0m \u001b[0;34m+\u001b[0m \u001b[0;36m121\u001b[0m\u001b[0;34m\u001b[0m\u001b[0;34m\u001b[0m\u001b[0m\n\u001b[0m",
            "\u001b[0;31mNameError\u001b[0m: name 'x' is not defined"
          ]
        }
      ],
      "source": [
        "x <- 139 + 121"
      ]
    },
    {
      "cell_type": "markdown",
      "metadata": {
        "id": "rmGQL2Ejqb29"
      },
      "source": [
        "To return the value of **`x`**, we can simply run the variable as a command:\n"
      ]
    },
    {
      "cell_type": "code",
      "execution_count": null,
      "metadata": {
        "jupyter": {
          "outputs_hidden": false
        },
        "colab": {
          "base_uri": "https://localhost:8080/",
          "height": 165
        },
        "id": "gqTUwGs_qb2_",
        "outputId": "92e4eece-9876-483b-f962-0058a6fd2ae3"
      },
      "outputs": [
        {
          "output_type": "error",
          "ename": "NameError",
          "evalue": "ignored",
          "traceback": [
            "\u001b[0;31m---------------------------------------------------------------------------\u001b[0m",
            "\u001b[0;31mNameError\u001b[0m                                 Traceback (most recent call last)",
            "\u001b[0;32m<ipython-input-5-6fcf9dfbd479>\u001b[0m in \u001b[0;36m<module>\u001b[0;34m\u001b[0m\n\u001b[0;32m----> 1\u001b[0;31m \u001b[0mx\u001b[0m\u001b[0;34m\u001b[0m\u001b[0;34m\u001b[0m\u001b[0m\n\u001b[0m",
            "\u001b[0;31mNameError\u001b[0m: name 'x' is not defined"
          ]
        }
      ],
      "source": [
        "x"
      ]
    },
    {
      "cell_type": "markdown",
      "metadata": {
        "id": "frvIfdJWqb3A"
      },
      "source": [
        "We can also perform operations on **`x`** and save the result to a **new variable**:\n"
      ]
    },
    {
      "cell_type": "code",
      "execution_count": null,
      "metadata": {
        "jupyter": {
          "outputs_hidden": false
        },
        "id": "sTm7q1kBqb3B"
      },
      "outputs": [],
      "source": [
        "y <- x / 60\n",
        "y"
      ]
    },
    {
      "cell_type": "markdown",
      "metadata": {
        "id": "BtWizLBRqb3B"
      },
      "source": [
        "If we save something to an **existing variable**, it will **overwrite** the previous value:\n"
      ]
    },
    {
      "cell_type": "code",
      "execution_count": null,
      "metadata": {
        "jupyter": {
          "outputs_hidden": false
        },
        "id": "_EQzyQQcqb3C"
      },
      "outputs": [],
      "source": [
        "x <- x / 60\n",
        "x"
      ]
    },
    {
      "cell_type": "markdown",
      "metadata": {
        "id": "-XtkUnnrqb3C"
      },
      "source": [
        "It's good practice to use **meaningful variable names**, so you don't have to keep track of what variable is what:\n"
      ]
    },
    {
      "cell_type": "code",
      "execution_count": null,
      "metadata": {
        "jupyter": {
          "outputs_hidden": false
        },
        "id": "VUn6emIFqb3D"
      },
      "outputs": [],
      "source": [
        "total <- 139 + 121\n",
        "total"
      ]
    },
    {
      "cell_type": "code",
      "execution_count": null,
      "metadata": {
        "jupyter": {
          "outputs_hidden": false
        },
        "id": "fT9t1vCdqb3D"
      },
      "outputs": [],
      "source": [
        "total_hr <- total / 60\n",
        "total_hr"
      ]
    },
    {
      "cell_type": "markdown",
      "metadata": {
        "id": "vfsAU9KUqb3E"
      },
      "source": [
        "You can put this all into a single expression, but remember to use **round brackets** to add together the movie lengths first, before dividing by 60.\n"
      ]
    },
    {
      "cell_type": "code",
      "execution_count": null,
      "metadata": {
        "jupyter": {
          "outputs_hidden": false
        },
        "id": "LlvYStnPqb3E"
      },
      "outputs": [],
      "source": [
        "total_hr <- (139 + 121) / 60\n",
        "total_hr"
      ]
    },
    {
      "cell_type": "markdown",
      "metadata": {
        "id": "NdyAv0N4qb3F"
      },
      "source": [
        "<hr></hr>\n",
        "<div class=\"alert alert-success alertsuccess\" style=\"margin-top: 0px\">\n",
        "<h4> [Tip] Variables in R </h4>\n",
        "<p></p>\n",
        "As you just learned, you can use **variables** to store values for repeated use. Here are some more **characteristics of variables in R**:\n",
        "<li>variables store the output of a block of code </li>\n",
        "<li>variables are typically assigned using **<-**, but can also be assigned using **=**, as in **x <- 1** or **x = 1** </li>\n",
        "<li>once created, variables can be removed from memory using **rm(**my_variable**)**  </li>\n",
        "<p></p>\n",
        "</div>\n",
        "<hr></hr>\n"
      ]
    },
    {
      "cell_type": "markdown",
      "metadata": {
        "id": "mLE3yhhSqb3G"
      },
      "source": [
        "<a id=\"ref3\"></a>\n",
        "\n",
        "<h2 align=center>Vectors in R</h2>\n"
      ]
    },
    {
      "cell_type": "markdown",
      "metadata": {
        "id": "deJHtHeSqb3H"
      },
      "source": [
        "What if we want to know the **movie length in *hours***, not minutes, for *Toy Story* and for *Akira*?\n",
        "\n",
        "*   **Toy Story (1995)**: 81 min\n",
        "*   **Akira (1998)**: 125 min\n"
      ]
    },
    {
      "cell_type": "code",
      "execution_count": null,
      "metadata": {
        "jupyter": {
          "outputs_hidden": false
        },
        "id": "1igar_pNqb3I"
      },
      "outputs": [],
      "source": [
        "c(81, 125) / 60"
      ]
    },
    {
      "cell_type": "markdown",
      "metadata": {
        "id": "NN38ItLJqb3J"
      },
      "source": [
        "As you see above, we've applied a single math operation to both of the items in **`c(81, 125)`**. You can even assign **`c(81, 125)`** to a variable before performing an operation.\n"
      ]
    },
    {
      "cell_type": "code",
      "execution_count": null,
      "metadata": {
        "jupyter": {
          "outputs_hidden": false
        },
        "id": "6Uo-7bE0qb3J"
      },
      "outputs": [],
      "source": [
        "ratings <- c(81, 125)\n",
        "ratings / 60"
      ]
    },
    {
      "cell_type": "markdown",
      "metadata": {
        "id": "0KMbvr8Qqb3K"
      },
      "source": [
        "What we just did was create vectors, using the combine function **`c()`**. The **`c()`** function takes multiple items, then combines them into a **vector**.\n",
        "\n",
        "It's important to understand that **vectors** are used everywhere in R, and vectors are easy to use.\n"
      ]
    },
    {
      "cell_type": "code",
      "execution_count": null,
      "metadata": {
        "jupyter": {
          "outputs_hidden": false
        },
        "id": "0fAVwJWdqb3K"
      },
      "outputs": [],
      "source": [
        "c(1, 2, 3, 4, 5, 6, 7, 8, 9, 10)\n",
        "c(1:10)"
      ]
    },
    {
      "cell_type": "code",
      "execution_count": null,
      "metadata": {
        "jupyter": {
          "outputs_hidden": false
        },
        "id": "SaQFeGo9qb3L"
      },
      "outputs": [],
      "source": [
        "c(10:1) # 10 to 1"
      ]
    },
    {
      "cell_type": "markdown",
      "metadata": {
        "id": "6ETxjBERqb3M"
      },
      "source": [
        "<hr></hr>\n",
        "<div class=\"alert alert-success alertsuccess\" style=\"margin-top: 20px\">\n",
        "<h4> [Tip] # Comments</h4>  \n",
        "\n",
        "Did you notice the **comment** after the **c(10:1)** above? Comments are very useful in describing your code. You can create your own comments by using the **#** symbol and writing your comment after it. R will interpret it as a comment, not as code.\n",
        "\n",
        "<p></p>\n",
        "</div>\n",
        "\n",
        "<hr></hr>\n"
      ]
    },
    {
      "cell_type": "markdown",
      "metadata": {
        "id": "wAVSWyWjqb3N"
      },
      "source": [
        "<a id=\"ref4\"></a>\n",
        "\n",
        "<h2 align=center>Strings in R</h2>\n"
      ]
    },
    {
      "cell_type": "markdown",
      "metadata": {
        "id": "ptdy7XtFqb3O"
      },
      "source": [
        "R isn't just about numbers -- we can also have strings too. For example:\n"
      ]
    },
    {
      "cell_type": "code",
      "execution_count": null,
      "metadata": {
        "jupyter": {
          "outputs_hidden": false
        },
        "id": "j6mBtgOcqb3Q"
      },
      "outputs": [],
      "source": [
        "movie <- \"Toy Story\"\n",
        "movie"
      ]
    },
    {
      "cell_type": "markdown",
      "metadata": {
        "id": "B0-Mb0k_qb3R"
      },
      "source": [
        "In R, you can identify **character strings** when they are wrapped with **matching double (\") or single (') quotes**.\n"
      ]
    },
    {
      "cell_type": "markdown",
      "metadata": {
        "id": "TE6JlQzXqb3S"
      },
      "source": [
        "Let's create a **character vector** for the following **genres**:\n",
        "\n",
        "*   Animation\n",
        "*   Comedy\n",
        "*   Biography\n",
        "*   Horror\n",
        "*   Romance\n",
        "*   Sci-fi\n"
      ]
    },
    {
      "cell_type": "code",
      "execution_count": null,
      "metadata": {
        "jupyter": {
          "outputs_hidden": false
        },
        "scrolled": true,
        "id": "pANN35u4qb3T"
      },
      "outputs": [],
      "source": [
        "genres <- c(\"Animation\", \"Comedy\", \"Biography\", \"Horror\", \"Romance\", \"Sci-fi\")\n",
        "genres"
      ]
    },
    {
      "cell_type": "markdown",
      "metadata": {
        "id": "Y0jweXyUqb3U"
      },
      "source": [
        "<hr>\n"
      ]
    },
    {
      "cell_type": "markdown",
      "metadata": {
        "id": "fjhh-es9qb3V"
      },
      "source": [
        "#### Scaling R with big data\n"
      ]
    },
    {
      "cell_type": "markdown",
      "metadata": {
        "id": "QGVmoQnEqb3V"
      },
      "source": [
        "As you learn more about R, if you are interested in exploring platforms that can help you run analyses at scale, you might want to sign up for a free account on [IBM Watson Studio](http://cocl.us/dsx_rp0101en), which allows you to run analyses in R with two Spark executors for free.\n"
      ]
    },
    {
      "cell_type": "markdown",
      "metadata": {
        "id": "r5l8Mtxoqb3W"
      },
      "source": [
        "<hr>\n"
      ]
    },
    {
      "cell_type": "markdown",
      "metadata": {
        "id": "cUuQVLWyqb3X"
      },
      "source": [
        "### Excellent! You have just completed the R basics notebook!\n"
      ]
    },
    {
      "cell_type": "markdown",
      "metadata": {
        "id": "T_9WXssTqb3X"
      },
      "source": [
        "### About the Author:\n",
        "\n",
        "Hi! It's [Marta Aghili](https://ca.linkedin.com/in/marta-aghili-2b184b71?utm_medium=Exinfluencer&utm_source=Exinfluencer&utm_content=000026UJ&utm_term=10006555&utm_id=NA-SkillsNetwork-Channel-SkillsNetworkCoursesIBMDeveloperSkillsNetworkRP0101ENSkillsNetwork20900564-2022-01-01), the author of this notebook. I hope you found R easy to learn! There's lots more to learn about R but you're well on your way. Feel free to connect with me if you have any questions.\n"
      ]
    },
    {
      "cell_type": "markdown",
      "metadata": {
        "id": "Aqh4Dj84qb3Y"
      },
      "source": [
        "<hr>\n",
        "Copyright &copy; [IBM Cognitive Class](https://cognitiveclass.ai). This notebook and its source code are released under the terms of the [MIT License](https://cognitiveclass.ai/mit-license/).\n"
      ]
    }
  ],
  "metadata": {
    "kernelspec": {
      "display_name": "R",
      "language": "R",
      "name": "conda-env-r-r"
    },
    "language_info": {
      "codemirror_mode": "r",
      "file_extension": ".r",
      "mimetype": "text/x-r-source",
      "name": "R",
      "pygments_lexer": "r",
      "version": "3.5.1"
    },
    "colab": {
      "provenance": [],
      "include_colab_link": true
    }
  },
  "nbformat": 4,
  "nbformat_minor": 0
}
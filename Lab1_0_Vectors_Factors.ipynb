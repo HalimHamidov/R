{
  "cells": [
    {
      "cell_type": "markdown",
      "metadata": {
        "id": "view-in-github",
        "colab_type": "text"
      },
      "source": [
        "<a href=\"https://colab.research.google.com/github/HalimHamidov/R/blob/main/Lab1_0_Vectors_Factors.ipynb\" target=\"_parent\"><img src=\"https://colab.research.google.com/assets/colab-badge.svg\" alt=\"Open In Colab\"/></a>"
      ]
    },
    {
      "cell_type": "markdown",
      "metadata": {
        "id": "nNUldTP5GnRk"
      },
      "source": [
        "<img src=\"http://cognitiveclass.ai/wp-content/uploads/2017/11/cc-logo-square.png\" width=\"150\">\n",
        "\n",
        "<h1 align=\"center\">VECTORS and FACTORS in R</h1> \n"
      ]
    },
    {
      "cell_type": "markdown",
      "metadata": {
        "id": "qgNZOR8HGnRt"
      },
      "source": [
        "### Welcome!\n",
        "\n",
        "By the end of this notebook, you will have learned about **vectors and factors**, two very important data types in R.\n"
      ]
    },
    {
      "cell_type": "markdown",
      "metadata": {
        "id": "l__SB6l2GnRy"
      },
      "source": [
        "## Table of Contents\n",
        "\n",
        "<ul>\n",
        "    <li><a href=\"https://#About-the-Dataset\">About the Dataset</a></li>\n",
        "    <li><a href=\"https://#Vectors\">Vectors</a></li>\n",
        "    <li><a href=\"https://#Vector-Operations\">Vector Operations</a></li>\n",
        "    <li><a href=\"https://#Subsetting-Vectors\">Subsetting Vectors</a></li>\n",
        "    <li><a href=\"https://#Factors\">Factors</a></li>\n",
        "</ul>\n",
        "<p></p>\n",
        "Estimated Time Needed: <strong>25 min</strong>\n",
        "\n",
        "<hr>\n"
      ]
    },
    {
      "cell_type": "markdown",
      "metadata": {
        "id": "5qVlQfbKGnR2"
      },
      "source": [
        "<a id=\"ref0\"></a>\n",
        "\n",
        "<h2 align=center>About the Dataset</h2>\n",
        "\n",
        "You have received many movie recomendations from your friends and compiled all of the recommendations into a table, with information about each movie.\n",
        "\n",
        "This table has one row for each movie and several columns.\n",
        "\n",
        "*   **name** - The name of the movie\n",
        "*   **year** - The year the movie was released\n",
        "*   **length_min** - The lenght of the movie in minutes\n",
        "*   **genre** - The genre of the movie\n",
        "*   **average_rating** - Average rating on Imdb\n",
        "*   **cost_millions** - The movie's production cost in millions\n",
        "*   **sequences** - The amount of sequences\n",
        "*   **foreign** - Indicative of whether the movie is foreign (1) or domestic (0)\n",
        "*   **age_restriction** - The age restriction for the movie\n",
        "\n",
        "<br>\n",
        "<br>\n",
        "\n",
        "Here's what the data looks like:\n",
        "\n",
        "<img src = \"https://ibm.box.com/shared/static/6kr8sg0n6pc40zd1xn6hjhtvy3k7cmeq.png\" width = 90% align=\"left\">\n"
      ]
    },
    {
      "cell_type": "markdown",
      "metadata": {
        "id": "GPfSrY55GnR5"
      },
      "source": [
        "<div class=\"alert alert-success alertsuccess\" style=\"margin-top: 20px\">\n",
        "**Remember**: To run the grey code cells in this exercise, click on the code cell, and then press Shift + Enter.\n",
        "</div>\n"
      ]
    },
    {
      "cell_type": "markdown",
      "metadata": {
        "id": "toiwwZ_qGnR7"
      },
      "source": [
        "<hr>\n"
      ]
    },
    {
      "cell_type": "markdown",
      "metadata": {
        "id": "Yj5XjGaiGnR-"
      },
      "source": [
        "<a id=\"ref1\"></a>\n",
        "\n",
        "<center><h2>Vectors</h2></center>\n"
      ]
    },
    {
      "cell_type": "markdown",
      "metadata": {
        "id": "MuG8XdMNGnSB"
      },
      "source": [
        "**Vectors** are strings of numbers, characters or logical data (one-dimension array). In other words, a vector is a simple tool to store your grouped data.\n",
        "\n",
        "In R, you create a vector with the combine function **c()**. You place the vector elements separated by a comma between the brackets. Vectors will be very useful in the future as they allow you to apply operations on a series of data easily.\n",
        "\n",
        "Note that the items in a vector must be of the same class, for example all should be either number, character, or logical.\n"
      ]
    },
    {
      "cell_type": "markdown",
      "metadata": {
        "id": "6gEM9ZFeGnSE"
      },
      "source": [
        "### Numeric, Character and Logical Vectors\n"
      ]
    },
    {
      "cell_type": "markdown",
      "metadata": {
        "id": "Dv6PVzkcGnSH"
      },
      "source": [
        "Let's say we have four movie release dates (1985, 1999, 2015, 1964) and we want to assign them to a single variable, `release_year`. This means we'll need to create a vector using **`c()`**.\n",
        "\n",
        "Using numbers, this becomes a **numeric vector**.\n"
      ]
    },
    {
      "cell_type": "code",
      "execution_count": 44,
      "metadata": {
        "collapsed": true,
        "id": "u-dgBgdAGnSJ"
      },
      "outputs": [],
      "source": [
        "release_year <- c(1985, 1999, 2015, 1964)"
      ]
    },
    {
      "cell_type": "code",
      "execution_count": 45,
      "metadata": {
        "colab": {
          "base_uri": "https://localhost:8080/",
          "height": 34
        },
        "id": "s3mj5tDXGnSP",
        "outputId": "c609aeda-122a-4211-819d-8b8d6c567895"
      },
      "outputs": [
        {
          "output_type": "display_data",
          "data": {
            "text/html": [
              "<style>\n",
              ".list-inline {list-style: none; margin:0; padding: 0}\n",
              ".list-inline>li {display: inline-block}\n",
              ".list-inline>li:not(:last-child)::after {content: \"\\00b7\"; padding: 0 .5ex}\n",
              "</style>\n",
              "<ol class=list-inline><li>1985</li><li>1999</li><li>2015</li><li>1964</li></ol>\n"
            ],
            "text/markdown": "1. 1985\n2. 1999\n3. 2015\n4. 1964\n\n\n",
            "text/latex": "\\begin{enumerate*}\n\\item 1985\n\\item 1999\n\\item 2015\n\\item 1964\n\\end{enumerate*}\n",
            "text/plain": [
              "[1] 1985 1999 2015 1964"
            ]
          },
          "metadata": {}
        }
      ],
      "source": [
        "release_year"
      ]
    },
    {
      "cell_type": "markdown",
      "metadata": {
        "id": "yIs7CT4sGnSR"
      },
      "source": [
        "What if we use quotation marks? Then this becomes a **character vector**.\n"
      ]
    },
    {
      "cell_type": "code",
      "execution_count": 46,
      "metadata": {
        "colab": {
          "base_uri": "https://localhost:8080/",
          "height": 34
        },
        "id": "qRoTomxhGnST",
        "outputId": "85ac1446-37b7-479b-ab3c-17649443a8eb"
      },
      "outputs": [
        {
          "output_type": "display_data",
          "data": {
            "text/html": [
              "<style>\n",
              ".list-inline {list-style: none; margin:0; padding: 0}\n",
              ".list-inline>li {display: inline-block}\n",
              ".list-inline>li:not(:last-child)::after {content: \"\\00b7\"; padding: 0 .5ex}\n",
              "</style>\n",
              "<ol class=list-inline><li>'Toy Story'</li><li>'Akira'</li><li>'The Breakfast Club'</li></ol>\n"
            ],
            "text/markdown": "1. 'Toy Story'\n2. 'Akira'\n3. 'The Breakfast Club'\n\n\n",
            "text/latex": "\\begin{enumerate*}\n\\item 'Toy Story'\n\\item 'Akira'\n\\item 'The Breakfast Club'\n\\end{enumerate*}\n",
            "text/plain": [
              "[1] \"Toy Story\"          \"Akira\"              \"The Breakfast Club\""
            ]
          },
          "metadata": {}
        }
      ],
      "source": [
        "# Create genre vector and assign values to it \n",
        "titles <- c(\"Toy Story\", \"Akira\", \"The Breakfast Club\")\n",
        "titles"
      ]
    },
    {
      "cell_type": "markdown",
      "metadata": {
        "id": "8lpF-PU6GnSV"
      },
      "source": [
        "There are also **logical vectors**, which consist of TRUE's and FALSE's. They're particular important when you want to check its contents\n"
      ]
    },
    {
      "cell_type": "code",
      "execution_count": 47,
      "metadata": {
        "colab": {
          "base_uri": "https://localhost:8080/",
          "height": 34
        },
        "id": "YwxsjQTFGnSX",
        "outputId": "95482219-505d-4a24-da70-a34e53cacd0e"
      },
      "outputs": [
        {
          "output_type": "display_data",
          "data": {
            "text/html": [
              "<style>\n",
              ".list-inline {list-style: none; margin:0; padding: 0}\n",
              ".list-inline>li {display: inline-block}\n",
              ".list-inline>li:not(:last-child)::after {content: \"\\00b7\"; padding: 0 .5ex}\n",
              "</style>\n",
              "<ol class=list-inline><li>FALSE</li><li>TRUE</li><li>FALSE</li></ol>\n"
            ],
            "text/markdown": "1. FALSE\n2. TRUE\n3. FALSE\n\n\n",
            "text/latex": "\\begin{enumerate*}\n\\item FALSE\n\\item TRUE\n\\item FALSE\n\\end{enumerate*}\n",
            "text/plain": [
              "[1] FALSE  TRUE FALSE"
            ]
          },
          "metadata": {}
        }
      ],
      "source": [
        "titles == \"Akira\" # which item in `titles` is equal to \"Akira\"?"
      ]
    },
    {
      "cell_type": "markdown",
      "metadata": {
        "id": "MGrP9Hl6GnSY"
      },
      "source": [
        "<hr></hr>\n",
        "<div class=\"alert alert-success alertsuccess\" style=\"margin-top: 20px\">\n",
        "<h4> [Tip] TRUE and FALSE in R </h4>  \n",
        "\n",
        "Did you know? R only recognizes `TRUE`, `FALSE`, `T` and `F` as special values for true and false. That means all other spellings, including *True* and *true*, are not interpreted by R as logical values.\n",
        "\n",
        "<p></p>\n",
        "</div>\n",
        "\n",
        "<hr></hr>\n"
      ]
    },
    {
      "cell_type": "markdown",
      "metadata": {
        "id": "BhtnurpYGnSa"
      },
      "source": [
        "<a id=\"ref2\"></a>\n",
        "\n",
        "<center><h2>Vector Operations</h2></center>\n"
      ]
    },
    {
      "cell_type": "markdown",
      "metadata": {
        "id": "kZix7WoSGnSa"
      },
      "source": [
        "### Adding more elements to a vector\n"
      ]
    },
    {
      "cell_type": "markdown",
      "metadata": {
        "id": "pTw6jIL-GnSb"
      },
      "source": [
        "You can add more elements to a vector with the same **`c()`** function you use the create vectors:\n"
      ]
    },
    {
      "cell_type": "code",
      "execution_count": 87,
      "metadata": {
        "colab": {
          "base_uri": "https://localhost:8080/",
          "height": 34
        },
        "id": "vHNowG_tGnSd",
        "outputId": "299c8310-10cd-4f68-c0fd-9fa2a67ae7cb"
      },
      "outputs": [
        {
          "output_type": "display_data",
          "data": {
            "text/html": [
              "<style>\n",
              ".list-inline {list-style: none; margin:0; padding: 0}\n",
              ".list-inline>li {display: inline-block}\n",
              ".list-inline>li:not(:last-child)::after {content: \"\\00b7\"; padding: 0 .5ex}\n",
              "</style>\n",
              "<ol class=list-inline><li>1985</li><li>1999</li><li>2015</li><li>1964</li></ol>\n"
            ],
            "text/markdown": "1. 1985\n2. 1999\n3. 2015\n4. 1964\n\n\n",
            "text/latex": "\\begin{enumerate*}\n\\item 1985\n\\item 1999\n\\item 2015\n\\item 1964\n\\end{enumerate*}\n",
            "text/plain": [
              "[1] 1985 1999 2015 1964"
            ]
          },
          "metadata": {}
        }
      ],
      "source": [
        "release_year <- c(1985, 1999, 2015, 1964)\n",
        "release_year"
      ]
    },
    {
      "cell_type": "code",
      "execution_count": 88,
      "metadata": {
        "colab": {
          "base_uri": "https://localhost:8080/",
          "height": 34
        },
        "id": "r6FNR3slGnSe",
        "outputId": "938a4514-08f7-4fe8-88c3-b1d1544f5ab7"
      },
      "outputs": [
        {
          "output_type": "display_data",
          "data": {
            "text/html": [
              "<style>\n",
              ".list-inline {list-style: none; margin:0; padding: 0}\n",
              ".list-inline>li {display: inline-block}\n",
              ".list-inline>li:not(:last-child)::after {content: \"\\00b7\"; padding: 0 .5ex}\n",
              "</style>\n",
              "<ol class=list-inline><li>1985</li><li>1999</li><li>2015</li><li>1964</li><li>2016</li><li>2017</li><li>2018</li></ol>\n"
            ],
            "text/markdown": "1. 1985\n2. 1999\n3. 2015\n4. 1964\n5. 2016\n6. 2017\n7. 2018\n\n\n",
            "text/latex": "\\begin{enumerate*}\n\\item 1985\n\\item 1999\n\\item 2015\n\\item 1964\n\\item 2016\n\\item 2017\n\\item 2018\n\\end{enumerate*}\n",
            "text/plain": [
              "[1] 1985 1999 2015 1964 2016 2017 2018"
            ]
          },
          "metadata": {}
        }
      ],
      "source": [
        "release_year <- c(release_year, 2016:2018)\n",
        "release_year"
      ]
    },
    {
      "cell_type": "markdown",
      "metadata": {
        "id": "1O2xAk0sGnSf"
      },
      "source": [
        "### Length of a vector\n"
      ]
    },
    {
      "cell_type": "markdown",
      "metadata": {
        "id": "wmjyy_7iGnSg"
      },
      "source": [
        "How do we check how many items there are in a vector? We can use the **length()** function:\n"
      ]
    },
    {
      "cell_type": "code",
      "execution_count": 50,
      "metadata": {
        "colab": {
          "base_uri": "https://localhost:8080/",
          "height": 52
        },
        "id": "CP2ZCdjJGnSh",
        "outputId": "f71bd3af-f462-4588-febc-798ba140e344"
      },
      "outputs": [
        {
          "output_type": "display_data",
          "data": {
            "text/html": [
              "<style>\n",
              ".list-inline {list-style: none; margin:0; padding: 0}\n",
              ".list-inline>li {display: inline-block}\n",
              ".list-inline>li:not(:last-child)::after {content: \"\\00b7\"; padding: 0 .5ex}\n",
              "</style>\n",
              "<ol class=list-inline><li>1985</li><li>1999</li><li>2015</li><li>1964</li><li>2016</li><li>2017</li><li>2018</li></ol>\n"
            ],
            "text/markdown": "1. 1985\n2. 1999\n3. 2015\n4. 1964\n5. 2016\n6. 2017\n7. 2018\n\n\n",
            "text/latex": "\\begin{enumerate*}\n\\item 1985\n\\item 1999\n\\item 2015\n\\item 1964\n\\item 2016\n\\item 2017\n\\item 2018\n\\end{enumerate*}\n",
            "text/plain": [
              "[1] 1985 1999 2015 1964 2016 2017 2018"
            ]
          },
          "metadata": {}
        },
        {
          "output_type": "display_data",
          "data": {
            "text/html": [
              "7"
            ],
            "text/markdown": "7",
            "text/latex": "7",
            "text/plain": [
              "[1] 7"
            ]
          },
          "metadata": {}
        }
      ],
      "source": [
        "release_year\n",
        "length(release_year)"
      ]
    },
    {
      "cell_type": "markdown",
      "metadata": {
        "id": "aq4Fltj7GnSi"
      },
      "source": [
        "### Head and Tail of a vector\n"
      ]
    },
    {
      "cell_type": "markdown",
      "metadata": {
        "id": "KmDZdTvQGnSi"
      },
      "source": [
        "We can also retrieve just the **first few items** using the **head()** function:\n"
      ]
    },
    {
      "cell_type": "code",
      "execution_count": 51,
      "metadata": {
        "colab": {
          "base_uri": "https://localhost:8080/",
          "height": 34
        },
        "id": "_BfJsufOGnSj",
        "outputId": "89569d83-f9ca-4873-841e-6f236c4b7b72"
      },
      "outputs": [
        {
          "output_type": "display_data",
          "data": {
            "text/html": [
              "<style>\n",
              ".list-inline {list-style: none; margin:0; padding: 0}\n",
              ".list-inline>li {display: inline-block}\n",
              ".list-inline>li:not(:last-child)::after {content: \"\\00b7\"; padding: 0 .5ex}\n",
              "</style>\n",
              "<ol class=list-inline><li>1985</li><li>1999</li><li>2015</li><li>1964</li><li>2016</li><li>2017</li></ol>\n"
            ],
            "text/markdown": "1. 1985\n2. 1999\n3. 2015\n4. 1964\n5. 2016\n6. 2017\n\n\n",
            "text/latex": "\\begin{enumerate*}\n\\item 1985\n\\item 1999\n\\item 2015\n\\item 1964\n\\item 2016\n\\item 2017\n\\end{enumerate*}\n",
            "text/plain": [
              "[1] 1985 1999 2015 1964 2016 2017"
            ]
          },
          "metadata": {}
        }
      ],
      "source": [
        "head(release_year) #first six items"
      ]
    },
    {
      "cell_type": "code",
      "execution_count": 52,
      "metadata": {
        "colab": {
          "base_uri": "https://localhost:8080/",
          "height": 34
        },
        "id": "k_xT0Z3GGnSk",
        "outputId": "73ef4a9e-dc34-40f1-bdc2-b35f38464f9a"
      },
      "outputs": [
        {
          "output_type": "display_data",
          "data": {
            "text/html": [
              "<style>\n",
              ".list-inline {list-style: none; margin:0; padding: 0}\n",
              ".list-inline>li {display: inline-block}\n",
              ".list-inline>li:not(:last-child)::after {content: \"\\00b7\"; padding: 0 .5ex}\n",
              "</style>\n",
              "<ol class=list-inline><li>1985</li><li>1999</li></ol>\n"
            ],
            "text/markdown": "1. 1985\n2. 1999\n\n\n",
            "text/latex": "\\begin{enumerate*}\n\\item 1985\n\\item 1999\n\\end{enumerate*}\n",
            "text/plain": [
              "[1] 1985 1999"
            ]
          },
          "metadata": {}
        }
      ],
      "source": [
        "head(release_year, n = 2) #first n items"
      ]
    },
    {
      "cell_type": "code",
      "execution_count": 53,
      "metadata": {
        "colab": {
          "base_uri": "https://localhost:8080/",
          "height": 34
        },
        "id": "y0a_71u5GnSl",
        "outputId": "e754f665-eebb-45f5-cb86-58f0cd4a9be7"
      },
      "outputs": [
        {
          "output_type": "display_data",
          "data": {
            "text/html": [
              "<style>\n",
              ".list-inline {list-style: none; margin:0; padding: 0}\n",
              ".list-inline>li {display: inline-block}\n",
              ".list-inline>li:not(:last-child)::after {content: \"\\00b7\"; padding: 0 .5ex}\n",
              "</style>\n",
              "<ol class=list-inline><li>1985</li><li>1999</li></ol>\n"
            ],
            "text/markdown": "1. 1985\n2. 1999\n\n\n",
            "text/latex": "\\begin{enumerate*}\n\\item 1985\n\\item 1999\n\\end{enumerate*}\n",
            "text/plain": [
              "[1] 1985 1999"
            ]
          },
          "metadata": {}
        }
      ],
      "source": [
        "head(release_year, 2)"
      ]
    },
    {
      "cell_type": "markdown",
      "metadata": {
        "id": "_3o9pstaGnSn"
      },
      "source": [
        "We can also retrieve just the **last few items** using the **tail()** function:\n"
      ]
    },
    {
      "cell_type": "code",
      "execution_count": 54,
      "metadata": {
        "colab": {
          "base_uri": "https://localhost:8080/",
          "height": 34
        },
        "id": "RxIU61mxGnSo",
        "outputId": "ac443b92-648f-4569-b778-58b5db567d4b"
      },
      "outputs": [
        {
          "output_type": "display_data",
          "data": {
            "text/html": [
              "<style>\n",
              ".list-inline {list-style: none; margin:0; padding: 0}\n",
              ".list-inline>li {display: inline-block}\n",
              ".list-inline>li:not(:last-child)::after {content: \"\\00b7\"; padding: 0 .5ex}\n",
              "</style>\n",
              "<ol class=list-inline><li>1999</li><li>2015</li><li>1964</li><li>2016</li><li>2017</li><li>2018</li></ol>\n"
            ],
            "text/markdown": "1. 1999\n2. 2015\n3. 1964\n4. 2016\n5. 2017\n6. 2018\n\n\n",
            "text/latex": "\\begin{enumerate*}\n\\item 1999\n\\item 2015\n\\item 1964\n\\item 2016\n\\item 2017\n\\item 2018\n\\end{enumerate*}\n",
            "text/plain": [
              "[1] 1999 2015 1964 2016 2017 2018"
            ]
          },
          "metadata": {}
        }
      ],
      "source": [
        "tail(release_year) #last six items"
      ]
    },
    {
      "cell_type": "code",
      "execution_count": 55,
      "metadata": {
        "colab": {
          "base_uri": "https://localhost:8080/",
          "height": 34
        },
        "id": "XQ1rN2MiGnSo",
        "outputId": "2cb5fd70-2a22-42e0-d111-4a1344d57e55"
      },
      "outputs": [
        {
          "output_type": "display_data",
          "data": {
            "text/html": [
              "<style>\n",
              ".list-inline {list-style: none; margin:0; padding: 0}\n",
              ".list-inline>li {display: inline-block}\n",
              ".list-inline>li:not(:last-child)::after {content: \"\\00b7\"; padding: 0 .5ex}\n",
              "</style>\n",
              "<ol class=list-inline><li>2017</li><li>2018</li></ol>\n"
            ],
            "text/markdown": "1. 2017\n2. 2018\n\n\n",
            "text/latex": "\\begin{enumerate*}\n\\item 2017\n\\item 2018\n\\end{enumerate*}\n",
            "text/plain": [
              "[1] 2017 2018"
            ]
          },
          "metadata": {}
        }
      ],
      "source": [
        "tail(release_year, 2) #last two items"
      ]
    },
    {
      "cell_type": "markdown",
      "metadata": {
        "id": "18JI_SGPGnSp"
      },
      "source": [
        "### Sorting a vector\n"
      ]
    },
    {
      "cell_type": "markdown",
      "metadata": {
        "id": "iSc3g-dKGnSq"
      },
      "source": [
        "We can also sort a vector:\n"
      ]
    },
    {
      "cell_type": "code",
      "execution_count": 56,
      "metadata": {
        "scrolled": true,
        "colab": {
          "base_uri": "https://localhost:8080/",
          "height": 34
        },
        "id": "27ogA9XVGnSr",
        "outputId": "f3875755-82ff-4715-d163-d842b2c83ab3"
      },
      "outputs": [
        {
          "output_type": "display_data",
          "data": {
            "text/html": [
              "<style>\n",
              ".list-inline {list-style: none; margin:0; padding: 0}\n",
              ".list-inline>li {display: inline-block}\n",
              ".list-inline>li:not(:last-child)::after {content: \"\\00b7\"; padding: 0 .5ex}\n",
              "</style>\n",
              "<ol class=list-inline><li>1964</li><li>1985</li><li>1999</li><li>2015</li><li>2016</li><li>2017</li><li>2018</li></ol>\n"
            ],
            "text/markdown": "1. 1964\n2. 1985\n3. 1999\n4. 2015\n5. 2016\n6. 2017\n7. 2018\n\n\n",
            "text/latex": "\\begin{enumerate*}\n\\item 1964\n\\item 1985\n\\item 1999\n\\item 2015\n\\item 2016\n\\item 2017\n\\item 2018\n\\end{enumerate*}\n",
            "text/plain": [
              "[1] 1964 1985 1999 2015 2016 2017 2018"
            ]
          },
          "metadata": {}
        }
      ],
      "source": [
        "sort(release_year)"
      ]
    },
    {
      "cell_type": "markdown",
      "metadata": {
        "id": "wpAVV4ivGnSs"
      },
      "source": [
        "We can also **sort in decreasing order**:\n"
      ]
    },
    {
      "cell_type": "code",
      "execution_count": 57,
      "metadata": {
        "colab": {
          "base_uri": "https://localhost:8080/",
          "height": 34
        },
        "id": "VI3IJEZgGnSt",
        "outputId": "3a493bc5-fa32-43a7-ccd9-c1f4e73e7fc6"
      },
      "outputs": [
        {
          "output_type": "display_data",
          "data": {
            "text/html": [
              "<style>\n",
              ".list-inline {list-style: none; margin:0; padding: 0}\n",
              ".list-inline>li {display: inline-block}\n",
              ".list-inline>li:not(:last-child)::after {content: \"\\00b7\"; padding: 0 .5ex}\n",
              "</style>\n",
              "<ol class=list-inline><li>2018</li><li>2017</li><li>2016</li><li>2015</li><li>1999</li><li>1985</li><li>1964</li></ol>\n"
            ],
            "text/markdown": "1. 2018\n2. 2017\n3. 2016\n4. 2015\n5. 1999\n6. 1985\n7. 1964\n\n\n",
            "text/latex": "\\begin{enumerate*}\n\\item 2018\n\\item 2017\n\\item 2016\n\\item 2015\n\\item 1999\n\\item 1985\n\\item 1964\n\\end{enumerate*}\n",
            "text/plain": [
              "[1] 2018 2017 2016 2015 1999 1985 1964"
            ]
          },
          "metadata": {}
        }
      ],
      "source": [
        "sort(release_year, decreasing = TRUE)"
      ]
    },
    {
      "cell_type": "markdown",
      "metadata": {
        "id": "O90x9_o5GnSu"
      },
      "source": [
        "But if you just want the minimum and maximum values of a vector, you can use the **`min()`** and **`max()`** functions\n"
      ]
    },
    {
      "cell_type": "code",
      "execution_count": 58,
      "metadata": {
        "colab": {
          "base_uri": "https://localhost:8080/",
          "height": 52
        },
        "id": "3vI57RzKGnSu",
        "outputId": "d87a44f6-33e8-453f-9d27-300fb7e58099"
      },
      "outputs": [
        {
          "output_type": "display_data",
          "data": {
            "text/html": [
              "1964"
            ],
            "text/markdown": "1964",
            "text/latex": "1964",
            "text/plain": [
              "[1] 1964"
            ]
          },
          "metadata": {}
        },
        {
          "output_type": "display_data",
          "data": {
            "text/html": [
              "2018"
            ],
            "text/markdown": "2018",
            "text/latex": "2018",
            "text/plain": [
              "[1] 2018"
            ]
          },
          "metadata": {}
        }
      ],
      "source": [
        "min(release_year)\n",
        "max(release_year)"
      ]
    },
    {
      "cell_type": "markdown",
      "metadata": {
        "id": "KGBfrFVrGnSv"
      },
      "source": [
        "### Average of Numbers\n"
      ]
    },
    {
      "cell_type": "markdown",
      "metadata": {
        "id": "E5LY3_FDGnSv"
      },
      "source": [
        "If you want to check the average cost of movies produced in 2014, what would you do? Of course, one way is to add all the numbers together, then divide by the number of movies:\n"
      ]
    },
    {
      "cell_type": "code",
      "execution_count": 59,
      "metadata": {
        "colab": {
          "base_uri": "https://localhost:8080/",
          "height": 34
        },
        "id": "OHEMXv5lGnSw",
        "outputId": "6ff54886-3d43-4bbc-a829-8364004a9ef0"
      },
      "outputs": [
        {
          "output_type": "display_data",
          "data": {
            "text/html": [
              "8.4"
            ],
            "text/markdown": "8.4",
            "text/latex": "8.4",
            "text/plain": [
              "[1] 8.4"
            ]
          },
          "metadata": {}
        }
      ],
      "source": [
        "cost_2014 <- c(8.6, 8.5, 8.1)\n",
        "\n",
        "# sum results in the sum of all elements in the vector\n",
        "avg_cost_2014 <- sum(cost_2014)/3\n",
        "avg_cost_2014"
      ]
    },
    {
      "cell_type": "markdown",
      "metadata": {
        "id": "WN8yRw4cGnSx"
      },
      "source": [
        "You also can use the <b>mean</b> function to find the average of the numeric values in a vector:\n"
      ]
    },
    {
      "cell_type": "code",
      "execution_count": 60,
      "metadata": {
        "colab": {
          "base_uri": "https://localhost:8080/",
          "height": 34
        },
        "id": "W6hwK8d-GnSy",
        "outputId": "afbf79c3-a1bd-44bf-84a4-724e87fac141"
      },
      "outputs": [
        {
          "output_type": "display_data",
          "data": {
            "text/html": [
              "8.4"
            ],
            "text/markdown": "8.4",
            "text/latex": "8.4",
            "text/plain": [
              "[1] 8.4"
            ]
          },
          "metadata": {}
        }
      ],
      "source": [
        "mean_cost_2014 <- mean(cost_2014)\n",
        "mean_cost_2014"
      ]
    },
    {
      "cell_type": "markdown",
      "metadata": {
        "id": "m94tavNlGnSz"
      },
      "source": [
        "### Giving Names to Values in a Vector\n"
      ]
    },
    {
      "cell_type": "markdown",
      "metadata": {
        "id": "ylEeiLcTGnSz"
      },
      "source": [
        "Suppose you want to remember which year corresponds to which movie.\n",
        "\n",
        "With vectors, you can give names to the elements of a vector using the \\*\\*names() \\*\\* function:\n"
      ]
    },
    {
      "cell_type": "code",
      "execution_count": 61,
      "metadata": {
        "colab": {
          "base_uri": "https://localhost:8080/",
          "height": 34
        },
        "id": "RWMnkAerGnS0",
        "outputId": "3c1bbc31-8c97-49a1-b5c1-da6770263758"
      },
      "outputs": [
        {
          "output_type": "display_data",
          "data": {
            "text/html": [
              "<style>\n",
              ".dl-inline {width: auto; margin:0; padding: 0}\n",
              ".dl-inline>dt, .dl-inline>dd {float: none; width: auto; display: inline-block}\n",
              ".dl-inline>dt::after {content: \":\\0020\"; padding-right: .5ex}\n",
              ".dl-inline>dt:not(:first-of-type) {padding-left: .5ex}\n",
              "</style><dl class=dl-inline><dt>The Breakfast Club</dt><dd>1985</dd><dt>American Beauty</dt><dd>1999</dd><dt>Black Swan</dt><dd>2010</dd><dt>Chicago</dt><dd>2002</dd></dl>\n"
            ],
            "text/markdown": "The Breakfast Club\n:   1985American Beauty\n:   1999Black Swan\n:   2010Chicago\n:   2002\n\n",
            "text/latex": "\\begin{description*}\n\\item[The Breakfast Club] 1985\n\\item[American Beauty] 1999\n\\item[Black Swan] 2010\n\\item[Chicago] 2002\n\\end{description*}\n",
            "text/plain": [
              "The Breakfast Club    American Beauty         Black Swan            Chicago \n",
              "              1985               1999               2010               2002 "
            ]
          },
          "metadata": {}
        }
      ],
      "source": [
        "#Creating a year vector\n",
        "release_year <- c(1985, 1999, 2010, 2002)\n",
        "\n",
        "#Assigning names\n",
        "names(release_year) <- c(\"The Breakfast Club\", \"American Beauty\", \"Black Swan\", \"Chicago\")\n",
        "\n",
        "release_year"
      ]
    },
    {
      "cell_type": "markdown",
      "metadata": {
        "id": "rJ78y9S_GnS1"
      },
      "source": [
        "Now, you can retrieve the values based on the names:\n"
      ]
    },
    {
      "cell_type": "code",
      "execution_count": 62,
      "metadata": {
        "colab": {
          "base_uri": "https://localhost:8080/",
          "height": 34
        },
        "id": "Dqot3ylWGnS1",
        "outputId": "e927c7a5-b09e-4ca1-ea18-599e1fde2885"
      },
      "outputs": [
        {
          "output_type": "display_data",
          "data": {
            "text/html": [
              "<style>\n",
              ".dl-inline {width: auto; margin:0; padding: 0}\n",
              ".dl-inline>dt, .dl-inline>dd {float: none; width: auto; display: inline-block}\n",
              ".dl-inline>dt::after {content: \":\\0020\"; padding-right: .5ex}\n",
              ".dl-inline>dt:not(:first-of-type) {padding-left: .5ex}\n",
              "</style><dl class=dl-inline><dt>American Beauty</dt><dd>1999</dd><dt>Chicago</dt><dd>2002</dd></dl>\n"
            ],
            "text/markdown": "American Beauty\n:   1999Chicago\n:   2002\n\n",
            "text/latex": "\\begin{description*}\n\\item[American Beauty] 1999\n\\item[Chicago] 2002\n\\end{description*}\n",
            "text/plain": [
              "American Beauty         Chicago \n",
              "           1999            2002 "
            ]
          },
          "metadata": {}
        }
      ],
      "source": [
        "release_year[c(\"American Beauty\", \"Chicago\")]"
      ]
    },
    {
      "cell_type": "markdown",
      "metadata": {
        "id": "DGgXReh-GnS2"
      },
      "source": [
        "Note that the values of the vector are still the years. We can see this in action by adding a number to the first item:\n"
      ]
    },
    {
      "cell_type": "code",
      "execution_count": 63,
      "metadata": {
        "colab": {
          "base_uri": "https://localhost:8080/",
          "height": 34
        },
        "id": "90wvdUwZGnS3",
        "outputId": "98b043a1-75e6-4502-f129-6932366876ab"
      },
      "outputs": [
        {
          "output_type": "display_data",
          "data": {
            "text/html": [
              "<strong>The Breakfast Club:</strong> 2085"
            ],
            "text/markdown": "**The Breakfast Club:** 2085",
            "text/latex": "\\textbf{The Breakfast Club:} 2085",
            "text/plain": [
              "The Breakfast Club \n",
              "              2085 "
            ]
          },
          "metadata": {}
        }
      ],
      "source": [
        "release_year[1] + 100 #adding 100 to the first item changes the year"
      ]
    },
    {
      "cell_type": "markdown",
      "metadata": {
        "id": "i2gEIEBUGnS3"
      },
      "source": [
        "And you can retrieve the names of the vector using **`names()`**\n"
      ]
    },
    {
      "cell_type": "code",
      "execution_count": 64,
      "metadata": {
        "colab": {
          "base_uri": "https://localhost:8080/",
          "height": 34
        },
        "id": "8UgijfduGnS4",
        "outputId": "b0dda6f6-c446-4ce3-cb73-8057e30ab969"
      },
      "outputs": [
        {
          "output_type": "display_data",
          "data": {
            "text/html": [
              "<style>\n",
              ".list-inline {list-style: none; margin:0; padding: 0}\n",
              ".list-inline>li {display: inline-block}\n",
              ".list-inline>li:not(:last-child)::after {content: \"\\00b7\"; padding: 0 .5ex}\n",
              "</style>\n",
              "<ol class=list-inline><li>'The Breakfast Club'</li><li>'American Beauty'</li><li>'Black Swan'</li></ol>\n"
            ],
            "text/markdown": "1. 'The Breakfast Club'\n2. 'American Beauty'\n3. 'Black Swan'\n\n\n",
            "text/latex": "\\begin{enumerate*}\n\\item 'The Breakfast Club'\n\\item 'American Beauty'\n\\item 'Black Swan'\n\\end{enumerate*}\n",
            "text/plain": [
              "[1] \"The Breakfast Club\" \"American Beauty\"    \"Black Swan\"        "
            ]
          },
          "metadata": {}
        }
      ],
      "source": [
        "names(release_year)[1:3]"
      ]
    },
    {
      "cell_type": "markdown",
      "metadata": {
        "id": "7hp9jgWeGnS5"
      },
      "source": [
        "### Summarizing Vectors\n"
      ]
    },
    {
      "cell_type": "markdown",
      "metadata": {
        "id": "ENRIMSWLGnS5"
      },
      "source": [
        "You can also use the **\"summary\"** function for simple descriptive statistics: minimum, first quartile, mean, third quartile, maximum:\n"
      ]
    },
    {
      "cell_type": "code",
      "execution_count": 65,
      "metadata": {
        "colab": {
          "base_uri": "https://localhost:8080/",
          "height": 52
        },
        "id": "WmnEhiYJGnS6",
        "outputId": "92c8f3ca-9e5e-406c-c2e3-7e3a740d71ab"
      },
      "outputs": [
        {
          "output_type": "display_data",
          "data": {
            "text/plain": [
              "   Min. 1st Qu.  Median    Mean 3rd Qu.    Max. \n",
              "   8.10    8.30    8.50    8.40    8.55    8.60 "
            ]
          },
          "metadata": {}
        }
      ],
      "source": [
        "summary(cost_2014)"
      ]
    },
    {
      "cell_type": "markdown",
      "metadata": {
        "id": "7uqsz0DZGnS7"
      },
      "source": [
        "### Using Logical Operations on Vectors\n"
      ]
    },
    {
      "cell_type": "markdown",
      "metadata": {
        "id": "NNp0R0p9GnS8"
      },
      "source": [
        "A vector can also be comprised of **`TRUE`** and **`FALSE`**, which are special **logical values** in R. These boolean values are used used to indicate whether a condition is true or false.\n",
        "\n",
        "Let's check whether a movie year of 1997 is older than (**greater in value than**) 2000.\n"
      ]
    },
    {
      "cell_type": "code",
      "execution_count": 66,
      "metadata": {
        "colab": {
          "base_uri": "https://localhost:8080/",
          "height": 0
        },
        "id": "dF3Xi-iKGnS8",
        "outputId": "5e07f227-3b37-4c83-909c-224bba410b29"
      },
      "outputs": [
        {
          "output_type": "display_data",
          "data": {
            "text/html": [
              "FALSE"
            ],
            "text/markdown": "FALSE",
            "text/latex": "FALSE",
            "text/plain": [
              "[1] FALSE"
            ]
          },
          "metadata": {}
        }
      ],
      "source": [
        "movie_year <- 1997\n",
        "movie_year > 2000"
      ]
    },
    {
      "cell_type": "markdown",
      "metadata": {
        "id": "vB2svVg1GnS9"
      },
      "source": [
        "You can also make a logical comparison across multiple items in a vector. Which movie release years here are \"greater\" than 2014?\n"
      ]
    },
    {
      "cell_type": "code",
      "execution_count": 67,
      "metadata": {
        "colab": {
          "base_uri": "https://localhost:8080/",
          "height": 0
        },
        "id": "ZjiNxsT_GnS-",
        "outputId": "25afed1c-3def-4ba3-c84e-920209fc51c3"
      },
      "outputs": [
        {
          "output_type": "display_data",
          "data": {
            "text/html": [
              "<style>\n",
              ".list-inline {list-style: none; margin:0; padding: 0}\n",
              ".list-inline>li {display: inline-block}\n",
              ".list-inline>li:not(:last-child)::after {content: \"\\00b7\"; padding: 0 .5ex}\n",
              "</style>\n",
              "<ol class=list-inline><li>FALSE</li><li>FALSE</li><li>TRUE</li></ol>\n"
            ],
            "text/markdown": "1. FALSE\n2. FALSE\n3. TRUE\n\n\n",
            "text/latex": "\\begin{enumerate*}\n\\item FALSE\n\\item FALSE\n\\item TRUE\n\\end{enumerate*}\n",
            "text/plain": [
              "[1] FALSE FALSE  TRUE"
            ]
          },
          "metadata": {}
        }
      ],
      "source": [
        "movies_years <- c(1998, 2010, 2016)\n",
        "movies_years > 2014"
      ]
    },
    {
      "cell_type": "markdown",
      "metadata": {
        "id": "bQfK2AkJGnS-"
      },
      "source": [
        "We can also check for **equivalence**, using **`==`**. Let's check which movie year is equal to 2015.\n"
      ]
    },
    {
      "cell_type": "code",
      "execution_count": 68,
      "metadata": {
        "colab": {
          "base_uri": "https://localhost:8080/",
          "height": 0
        },
        "id": "7ucpVmE_GnS_",
        "outputId": "f590d0e2-ca57-467f-eb69-84080a8781b5"
      },
      "outputs": [
        {
          "output_type": "display_data",
          "data": {
            "text/html": [
              "<style>\n",
              ".list-inline {list-style: none; margin:0; padding: 0}\n",
              ".list-inline>li {display: inline-block}\n",
              ".list-inline>li:not(:last-child)::after {content: \"\\00b7\"; padding: 0 .5ex}\n",
              "</style>\n",
              "<ol class=list-inline><li>FALSE</li><li>FALSE</li><li>FALSE</li></ol>\n"
            ],
            "text/markdown": "1. FALSE\n2. FALSE\n3. FALSE\n\n\n",
            "text/latex": "\\begin{enumerate*}\n\\item FALSE\n\\item FALSE\n\\item FALSE\n\\end{enumerate*}\n",
            "text/plain": [
              "[1] FALSE FALSE FALSE"
            ]
          },
          "metadata": {}
        }
      ],
      "source": [
        "movies_years == 2015 # is equal to 2015?"
      ]
    },
    {
      "cell_type": "markdown",
      "metadata": {
        "id": "Z824_maOGnTA"
      },
      "source": [
        "If you want to check which ones are **not equal** to 2015, you can use **`!=`**\n"
      ]
    },
    {
      "cell_type": "code",
      "execution_count": 69,
      "metadata": {
        "colab": {
          "base_uri": "https://localhost:8080/",
          "height": 0
        },
        "id": "ornaRKObGnTA",
        "outputId": "5650d9c0-f065-48d0-b7da-a62ea892d8fc"
      },
      "outputs": [
        {
          "output_type": "display_data",
          "data": {
            "text/html": [
              "<style>\n",
              ".list-inline {list-style: none; margin:0; padding: 0}\n",
              ".list-inline>li {display: inline-block}\n",
              ".list-inline>li:not(:last-child)::after {content: \"\\00b7\"; padding: 0 .5ex}\n",
              "</style>\n",
              "<ol class=list-inline><li>TRUE</li><li>TRUE</li><li>TRUE</li></ol>\n"
            ],
            "text/markdown": "1. TRUE\n2. TRUE\n3. TRUE\n\n\n",
            "text/latex": "\\begin{enumerate*}\n\\item TRUE\n\\item TRUE\n\\item TRUE\n\\end{enumerate*}\n",
            "text/plain": [
              "[1] TRUE TRUE TRUE"
            ]
          },
          "metadata": {}
        }
      ],
      "source": [
        "movies_years != 2015"
      ]
    },
    {
      "cell_type": "markdown",
      "metadata": {
        "id": "8CCkkRhAGnTB"
      },
      "source": [
        "<hr></hr>\n",
        "<div class=\"alert alert-success alertsuccess\" style=\"margin-top: 20px\">\n",
        "<h4> [Tip] Logical Operators in R </h4>\n",
        "<p></p>\n",
        "You can do a variety of logical operations in R including:  \n",
        "<li> Checking equivalence: **1 == 2** </li>\n",
        "<li> Checking non-equivalence: **TRUE != FALSE** </li>\n",
        "<li> Greater than: **100 > 1** </li>\n",
        "<li> Greater than or equal to: **100 >= 1** </li>\n",
        "<li> Less than: **1 < 2** </li>\n",
        "<li> Less than or equal to: **1 <= 2** </li>\n",
        "</div>\n",
        "<hr></hr>\n"
      ]
    },
    {
      "cell_type": "markdown",
      "metadata": {
        "id": "wpthtO1DGnTC"
      },
      "source": [
        "<a id=\"ref3\"></a>\n",
        "\n",
        "<center><h2>Subsetting Vectors</h2><center>\n"
      ]
    },
    {
      "cell_type": "markdown",
      "metadata": {
        "id": "WanY1TsKGnTD"
      },
      "source": [
        "What if you wanted to retrieve the second year from the following **vector of movie years**?\n"
      ]
    },
    {
      "cell_type": "code",
      "execution_count": 70,
      "metadata": {
        "colab": {
          "base_uri": "https://localhost:8080/",
          "height": 0
        },
        "id": "XJ43MbnhGnTD",
        "outputId": "9bfcf64a-c2eb-4dc2-d791-99f6698f36a3"
      },
      "outputs": [
        {
          "output_type": "display_data",
          "data": {
            "text/html": [
              "<style>\n",
              ".list-inline {list-style: none; margin:0; padding: 0}\n",
              ".list-inline>li {display: inline-block}\n",
              ".list-inline>li:not(:last-child)::after {content: \"\\00b7\"; padding: 0 .5ex}\n",
              "</style>\n",
              "<ol class=list-inline><li>1985</li><li>1999</li><li>2002</li><li>2010</li><li>2012</li></ol>\n"
            ],
            "text/markdown": "1. 1985\n2. 1999\n3. 2002\n4. 2010\n5. 2012\n\n\n",
            "text/latex": "\\begin{enumerate*}\n\\item 1985\n\\item 1999\n\\item 2002\n\\item 2010\n\\item 2012\n\\end{enumerate*}\n",
            "text/plain": [
              "[1] 1985 1999 2002 2010 2012"
            ]
          },
          "metadata": {}
        }
      ],
      "source": [
        "movie_years <- c(1985, 1999, 2002, 2010, 2012)\n",
        "movie_years"
      ]
    },
    {
      "cell_type": "markdown",
      "metadata": {
        "id": "2or_XbaHGnTE"
      },
      "source": [
        "To retrieve the **second year**, you can use square brackets **`[]`**:\n"
      ]
    },
    {
      "cell_type": "code",
      "execution_count": 71,
      "metadata": {
        "colab": {
          "base_uri": "https://localhost:8080/",
          "height": 0
        },
        "id": "zXyLYEL8GnTE",
        "outputId": "4a0cac71-a9aa-4f22-ae14-e0cfcf355748"
      },
      "outputs": [
        {
          "output_type": "display_data",
          "data": {
            "text/html": [
              "1999"
            ],
            "text/markdown": "1999",
            "text/latex": "1999",
            "text/plain": [
              "[1] 1999"
            ]
          },
          "metadata": {}
        }
      ],
      "source": [
        "movie_years[2] #second item"
      ]
    },
    {
      "cell_type": "markdown",
      "metadata": {
        "id": "v2UfApXCGnTF"
      },
      "source": [
        "To retrieve the **third year**, you can use:\n"
      ]
    },
    {
      "cell_type": "code",
      "execution_count": 72,
      "metadata": {
        "colab": {
          "base_uri": "https://localhost:8080/",
          "height": 0
        },
        "id": "0Mxu5PB9GnTG",
        "outputId": "4b00a8e8-927e-469e-e680-c1419e1480a3"
      },
      "outputs": [
        {
          "output_type": "display_data",
          "data": {
            "text/html": [
              "2002"
            ],
            "text/markdown": "2002",
            "text/latex": "2002",
            "text/plain": [
              "[1] 2002"
            ]
          },
          "metadata": {}
        }
      ],
      "source": [
        "movie_years[3]"
      ]
    },
    {
      "cell_type": "markdown",
      "metadata": {
        "id": "qU9aF83PGnTG"
      },
      "source": [
        "And if you want to retrieve **multiple items**, you can pass in a vector:\n"
      ]
    },
    {
      "cell_type": "code",
      "execution_count": 73,
      "metadata": {
        "colab": {
          "base_uri": "https://localhost:8080/",
          "height": 0
        },
        "id": "sRZbZdQHGnTH",
        "outputId": "970ce8df-a10b-431d-f101-aedabdf1d549"
      },
      "outputs": [
        {
          "output_type": "display_data",
          "data": {
            "text/html": [
              "<style>\n",
              ".list-inline {list-style: none; margin:0; padding: 0}\n",
              ".list-inline>li {display: inline-block}\n",
              ".list-inline>li:not(:last-child)::after {content: \"\\00b7\"; padding: 0 .5ex}\n",
              "</style>\n",
              "<ol class=list-inline><li>1985</li><li>2002</li></ol>\n"
            ],
            "text/markdown": "1. 1985\n2. 2002\n\n\n",
            "text/latex": "\\begin{enumerate*}\n\\item 1985\n\\item 2002\n\\end{enumerate*}\n",
            "text/plain": [
              "[1] 1985 2002"
            ]
          },
          "metadata": {}
        }
      ],
      "source": [
        "movie_years[c(1,3)] #first and third items"
      ]
    },
    {
      "cell_type": "markdown",
      "metadata": {
        "id": "7MZm38ABGnTI"
      },
      "source": [
        "**Retrieving a vector without some of its items**\n",
        "\n",
        "To retrieve a vector without an item, you can use negative indexing. For example, the following returns a vector slice **without the first item**.\n"
      ]
    },
    {
      "cell_type": "code",
      "execution_count": 74,
      "metadata": {
        "colab": {
          "base_uri": "https://localhost:8080/",
          "height": 0
        },
        "id": "GoI3qc8WGnTI",
        "outputId": "2e8d70d4-f5a6-45bd-cd7c-712dd0e7a986"
      },
      "outputs": [
        {
          "output_type": "display_data",
          "data": {
            "text/html": [
              "<style>\n",
              ".list-inline {list-style: none; margin:0; padding: 0}\n",
              ".list-inline>li {display: inline-block}\n",
              ".list-inline>li:not(:last-child)::after {content: \"\\00b7\"; padding: 0 .5ex}\n",
              "</style>\n",
              "<ol class=list-inline><li>'Jumanji'</li><li>'City of God'</li><li>'Toy Story'</li><li>'Casino'</li></ol>\n"
            ],
            "text/markdown": "1. 'Jumanji'\n2. 'City of God'\n3. 'Toy Story'\n4. 'Casino'\n\n\n",
            "text/latex": "\\begin{enumerate*}\n\\item 'Jumanji'\n\\item 'City of God'\n\\item 'Toy Story'\n\\item 'Casino'\n\\end{enumerate*}\n",
            "text/plain": [
              "[1] \"Jumanji\"     \"City of God\" \"Toy Story\"   \"Casino\"     "
            ]
          },
          "metadata": {}
        }
      ],
      "source": [
        "titles <- c(\"Black Swan\", \"Jumanji\", \"City of God\", \"Toy Story\", \"Casino\")\n",
        "titles[-1]"
      ]
    },
    {
      "cell_type": "markdown",
      "metadata": {
        "id": "Q8Ixvdj6GnTJ"
      },
      "source": [
        "You can save the new vector using a variable:\n"
      ]
    },
    {
      "cell_type": "code",
      "execution_count": 75,
      "metadata": {
        "colab": {
          "base_uri": "https://localhost:8080/",
          "height": 0
        },
        "id": "R4q6DuLMGnTJ",
        "outputId": "fa560017-0914-4272-d8b3-0bf59b768917"
      },
      "outputs": [
        {
          "output_type": "display_data",
          "data": {
            "text/html": [
              "<style>\n",
              ".list-inline {list-style: none; margin:0; padding: 0}\n",
              ".list-inline>li {display: inline-block}\n",
              ".list-inline>li:not(:last-child)::after {content: \"\\00b7\"; padding: 0 .5ex}\n",
              "</style>\n",
              "<ol class=list-inline><li>'Jumanji'</li><li>'City of God'</li><li>'Toy Story'</li><li>'Casino'</li></ol>\n"
            ],
            "text/markdown": "1. 'Jumanji'\n2. 'City of God'\n3. 'Toy Story'\n4. 'Casino'\n\n\n",
            "text/latex": "\\begin{enumerate*}\n\\item 'Jumanji'\n\\item 'City of God'\n\\item 'Toy Story'\n\\item 'Casino'\n\\end{enumerate*}\n",
            "text/plain": [
              "[1] \"Jumanji\"     \"City of God\" \"Toy Story\"   \"Casino\"     "
            ]
          },
          "metadata": {}
        }
      ],
      "source": [
        "new_titles <- titles[-1] #removes \"Black Swan\", the first item\n",
        "new_titles"
      ]
    },
    {
      "cell_type": "markdown",
      "metadata": {
        "id": "_nABS_XpGnTK"
      },
      "source": [
        "\\*\\* Missing Values (NA)\\*\\*\n",
        "\n",
        "Sometimes values in a vector are missing and you have to show them using NA, which is a special value in R for \"Not Available\". For example, if you don't know the age restriction for some movies, you can use NA.\n"
      ]
    },
    {
      "cell_type": "code",
      "execution_count": 76,
      "metadata": {
        "colab": {
          "base_uri": "https://localhost:8080/",
          "height": 0
        },
        "id": "d3KTdekaGnTL",
        "outputId": "df3fad91-20f9-4165-a114-e1203de43aad"
      },
      "outputs": [
        {
          "output_type": "display_data",
          "data": {
            "text/html": [
              "<style>\n",
              ".list-inline {list-style: none; margin:0; padding: 0}\n",
              ".list-inline>li {display: inline-block}\n",
              ".list-inline>li:not(:last-child)::after {content: \"\\00b7\"; padding: 0 .5ex}\n",
              "</style>\n",
              "<ol class=list-inline><li>14</li><li>12</li><li>10</li><li>&lt;NA&gt;</li><li>18</li><li>&lt;NA&gt;</li></ol>\n"
            ],
            "text/markdown": "1. 14\n2. 12\n3. 10\n4. &lt;NA&gt;\n5. 18\n6. &lt;NA&gt;\n\n\n",
            "text/latex": "\\begin{enumerate*}\n\\item 14\n\\item 12\n\\item 10\n\\item <NA>\n\\item 18\n\\item <NA>\n\\end{enumerate*}\n",
            "text/plain": [
              "[1] 14 12 10 NA 18 NA"
            ]
          },
          "metadata": {}
        }
      ],
      "source": [
        "age_restric <- c(14, 12, 10, NA, 18, NA)\n",
        "age_restric"
      ]
    },
    {
      "cell_type": "markdown",
      "metadata": {
        "id": "Bfyn4vZBGnTL"
      },
      "source": [
        "<div class=\"alert alert-success alertsuccess\" style=\"margin-top: 20px\">\n",
        "<h4> [Tip] Checking NA in R </h4>\n",
        "<p></p>\n",
        "You can check if a value is NA by using the **is.na()** function, which returns TRUE or FALSE. \n",
        "<li> Check if NA: **is.na(NA)** </li>\n",
        "<li> Check if not NA: **!is.na(2)** </li>\n",
        "</div>\n"
      ]
    },
    {
      "cell_type": "markdown",
      "metadata": {
        "id": "PXkrYYqfGnTM"
      },
      "source": [
        "### Subsetting vectors based on a logical condition\n"
      ]
    },
    {
      "cell_type": "markdown",
      "metadata": {
        "id": "EcHyecwcGnTN"
      },
      "source": [
        "What if we want to know which movies were created after year 2000? We can simply apply a logical comparison across all the items in a vector:\n"
      ]
    },
    {
      "cell_type": "code",
      "execution_count": 77,
      "metadata": {
        "colab": {
          "base_uri": "https://localhost:8080/",
          "height": 0
        },
        "id": "tWcu-lBtGnTN",
        "outputId": "45b1f6fd-52f9-4200-b4d5-6dff52eef334"
      },
      "outputs": [
        {
          "output_type": "display_data",
          "data": {
            "text/html": [
              "<style>\n",
              ".dl-inline {width: auto; margin:0; padding: 0}\n",
              ".dl-inline>dt, .dl-inline>dd {float: none; width: auto; display: inline-block}\n",
              ".dl-inline>dt::after {content: \":\\0020\"; padding-right: .5ex}\n",
              ".dl-inline>dt:not(:first-of-type) {padding-left: .5ex}\n",
              "</style><dl class=dl-inline><dt>The Breakfast Club</dt><dd>FALSE</dd><dt>American Beauty</dt><dd>FALSE</dd><dt>Black Swan</dt><dd>TRUE</dd><dt>Chicago</dt><dd>TRUE</dd></dl>\n"
            ],
            "text/markdown": "The Breakfast Club\n:   FALSEAmerican Beauty\n:   FALSEBlack Swan\n:   TRUEChicago\n:   TRUE\n\n",
            "text/latex": "\\begin{description*}\n\\item[The Breakfast Club] FALSE\n\\item[American Beauty] FALSE\n\\item[Black Swan] TRUE\n\\item[Chicago] TRUE\n\\end{description*}\n",
            "text/plain": [
              "The Breakfast Club    American Beauty         Black Swan            Chicago \n",
              "             FALSE              FALSE               TRUE               TRUE "
            ]
          },
          "metadata": {}
        }
      ],
      "source": [
        "release_year > 2000"
      ]
    },
    {
      "cell_type": "markdown",
      "metadata": {
        "id": "Oaei532uGnTO"
      },
      "source": [
        "To retrieve the actual movie years after year 2000, you can simply subset the vector using the logical vector within **square brackets \"\\[]\"**:\n"
      ]
    },
    {
      "cell_type": "code",
      "execution_count": 78,
      "metadata": {
        "colab": {
          "base_uri": "https://localhost:8080/",
          "height": 0
        },
        "id": "CWnEr5n7GnTP",
        "outputId": "6d3af73f-889f-45dd-bf2e-2ebef587b2db"
      },
      "outputs": [
        {
          "output_type": "display_data",
          "data": {
            "text/html": [
              "<style>\n",
              ".dl-inline {width: auto; margin:0; padding: 0}\n",
              ".dl-inline>dt, .dl-inline>dd {float: none; width: auto; display: inline-block}\n",
              ".dl-inline>dt::after {content: \":\\0020\"; padding-right: .5ex}\n",
              ".dl-inline>dt:not(:first-of-type) {padding-left: .5ex}\n",
              "</style><dl class=dl-inline><dt>Black Swan</dt><dd>2010</dd><dt>Chicago</dt><dd>2002</dd><dt>3</dt><dd>&lt;NA&gt;</dd></dl>\n"
            ],
            "text/markdown": "Black Swan\n:   2010Chicago\n:   20023\n:   &lt;NA&gt;\n\n",
            "text/latex": "\\begin{description*}\n\\item[Black Swan] 2010\n\\item[Chicago] 2002\n\\item[3] <NA>\n\\end{description*}\n",
            "text/plain": [
              "Black Swan    Chicago       <NA> \n",
              "      2010       2002         NA "
            ]
          },
          "metadata": {}
        }
      ],
      "source": [
        "release_year[movie_years > 2000] #returns a vector for elements that returned TRUE for the condition"
      ]
    },
    {
      "cell_type": "markdown",
      "metadata": {
        "id": "KUkq3BrCGnTP"
      },
      "source": [
        "As you may notice, subsetting vectors in R works by retrieving items that were TRUE for the provided condition. For example, `year[year > 2000]` can be verbally explained as: *\"From the vector `year`, return only values where the values are TRUE for `year > 2000`\"*.\n",
        "\n",
        "You can even manually write out TRUE or T for the values you want to subset:\n"
      ]
    },
    {
      "cell_type": "code",
      "execution_count": 79,
      "metadata": {
        "colab": {
          "base_uri": "https://localhost:8080/",
          "height": 0
        },
        "id": "dDUNWtFsGnTQ",
        "outputId": "c767e6c2-8dcb-475b-d725-4640ab2be60c"
      },
      "outputs": [
        {
          "output_type": "display_data",
          "data": {
            "text/html": [
              "<style>\n",
              ".dl-inline {width: auto; margin:0; padding: 0}\n",
              ".dl-inline>dt, .dl-inline>dd {float: none; width: auto; display: inline-block}\n",
              ".dl-inline>dt::after {content: \":\\0020\"; padding-right: .5ex}\n",
              ".dl-inline>dt:not(:first-of-type) {padding-left: .5ex}\n",
              "</style><dl class=dl-inline><dt>The Breakfast Club</dt><dd>1985</dd><dt>American Beauty</dt><dd>1999</dd><dt>Black Swan</dt><dd>2010</dd><dt>Chicago</dt><dd>2002</dd></dl>\n"
            ],
            "text/markdown": "The Breakfast Club\n:   1985American Beauty\n:   1999Black Swan\n:   2010Chicago\n:   2002\n\n",
            "text/latex": "\\begin{description*}\n\\item[The Breakfast Club] 1985\n\\item[American Beauty] 1999\n\\item[Black Swan] 2010\n\\item[Chicago] 2002\n\\end{description*}\n",
            "text/plain": [
              "The Breakfast Club    American Beauty         Black Swan            Chicago \n",
              "              1985               1999               2010               2002 "
            ]
          },
          "metadata": {}
        },
        {
          "output_type": "display_data",
          "data": {
            "text/html": [
              "<strong>The Breakfast Club:</strong> 1985"
            ],
            "text/markdown": "**The Breakfast Club:** 1985",
            "text/latex": "\\textbf{The Breakfast Club:} 1985",
            "text/plain": [
              "The Breakfast Club \n",
              "              1985 "
            ]
          },
          "metadata": {}
        }
      ],
      "source": [
        "release_year\n",
        "release_year[c(T, F, F, F)] #returns the values that are TRUE"
      ]
    },
    {
      "cell_type": "markdown",
      "metadata": {
        "id": "Q0QeVsTxGnTR"
      },
      "source": [
        "<a id=\"ref4\"></a>\n",
        "\n",
        "<center><h2>Factors</h2></center>\n"
      ]
    },
    {
      "cell_type": "markdown",
      "metadata": {
        "id": "HGm0G7EIGnTR"
      },
      "source": [
        "Factors are variables in R which take on a limited number of different values; such variables are often refered to as  **categorical variables**. The difference between a categorical variable and a continuous variable is that a categorical variable can belong to a limited number of categories. A continuous variable, on the other hand, can correspond to an infinite number of values. For example, the height of a tree is a continuous variable, but the titles of books would be a categorical variable.\n",
        "\n",
        "One of the most important uses of factors is in statistical modeling; since categorical variables enter into statistical models differently than continuous variables, storing data as factors insures that the modeling functions will treat such data correctly.\n"
      ]
    },
    {
      "cell_type": "markdown",
      "metadata": {
        "id": "JkP5NSYxGnTS"
      },
      "source": [
        "Let's start with a ***vector*** of genres:\n"
      ]
    },
    {
      "cell_type": "code",
      "execution_count": 80,
      "metadata": {
        "colab": {
          "base_uri": "https://localhost:8080/",
          "height": 0
        },
        "id": "zSmHC-SQGnTT",
        "outputId": "083bb7b7-3438-40a7-afe1-8862d761540e"
      },
      "outputs": [
        {
          "output_type": "display_data",
          "data": {
            "text/html": [
              "<style>\n",
              ".list-inline {list-style: none; margin:0; padding: 0}\n",
              ".list-inline>li {display: inline-block}\n",
              ".list-inline>li:not(:last-child)::after {content: \"\\00b7\"; padding: 0 .5ex}\n",
              "</style>\n",
              "<ol class=list-inline><li>'Comedy'</li><li>'Animation'</li><li>'Crime'</li><li>'Comedy'</li><li>'Animation'</li></ol>\n"
            ],
            "text/markdown": "1. 'Comedy'\n2. 'Animation'\n3. 'Crime'\n4. 'Comedy'\n5. 'Animation'\n\n\n",
            "text/latex": "\\begin{enumerate*}\n\\item 'Comedy'\n\\item 'Animation'\n\\item 'Crime'\n\\item 'Comedy'\n\\item 'Animation'\n\\end{enumerate*}\n",
            "text/plain": [
              "[1] \"Comedy\"    \"Animation\" \"Crime\"     \"Comedy\"    \"Animation\""
            ]
          },
          "metadata": {}
        }
      ],
      "source": [
        "genre_vector <- c(\"Comedy\", \"Animation\", \"Crime\", \"Comedy\", \"Animation\")\n",
        "genre_vector"
      ]
    },
    {
      "cell_type": "markdown",
      "metadata": {
        "id": "l7Fo4E_MGnTT"
      },
      "source": [
        "As you may have noticed, you can theoretically group the items above into three categories of genres: *Animation*, *Comedy* and *Crime*. In R-terms, we call these categories **\"factor levels\"**.\n",
        "\n",
        "The function **factor()** converts a vector into a factor, and creates a factor level for each unique element.\n"
      ]
    },
    {
      "cell_type": "code",
      "execution_count": 81,
      "metadata": {
        "colab": {
          "base_uri": "https://localhost:8080/",
          "height": 0
        },
        "id": "mrTUI1tvGnTU",
        "outputId": "dd5e8814-4e9a-41d7-ea48-abae6465a19f"
      },
      "outputs": [
        {
          "output_type": "display_data",
          "data": {
            "text/html": [
              "<style>\n",
              ".list-inline {list-style: none; margin:0; padding: 0}\n",
              ".list-inline>li {display: inline-block}\n",
              ".list-inline>li:not(:last-child)::after {content: \"\\00b7\"; padding: 0 .5ex}\n",
              "</style>\n",
              "<ol class=list-inline><li>'Animation'</li><li>'Comedy'</li><li>'Crime'</li></ol>\n"
            ],
            "text/markdown": "1. 'Animation'\n2. 'Comedy'\n3. 'Crime'\n\n\n",
            "text/latex": "\\begin{enumerate*}\n\\item 'Animation'\n\\item 'Comedy'\n\\item 'Crime'\n\\end{enumerate*}\n",
            "text/plain": [
              "[1] \"Animation\" \"Comedy\"    \"Crime\"    "
            ]
          },
          "metadata": {}
        }
      ],
      "source": [
        "genre_factor <- as.factor(genre_vector)\n",
        "levels(genre_factor)"
      ]
    },
    {
      "cell_type": "markdown",
      "metadata": {
        "id": "lovfkqqzGnTV"
      },
      "source": [
        "### Summarizing Factors\n"
      ]
    },
    {
      "cell_type": "markdown",
      "metadata": {
        "id": "oVy9WqtrGnTW"
      },
      "source": [
        "When you have a large vector, it becomes difficult to identify which levels are most common (e.g., \"How many 'Comedy' movies are there?\").\n",
        "\n",
        "To answer this, we can use **summary()**, which produces a **frequency table**, as a named vector.\n"
      ]
    },
    {
      "cell_type": "code",
      "execution_count": 82,
      "metadata": {
        "colab": {
          "base_uri": "https://localhost:8080/",
          "height": 0
        },
        "id": "D4fgmUwMGnTW",
        "outputId": "78d3a491-e2ff-48b9-ed3a-be7b6b7f2b78"
      },
      "outputs": [
        {
          "output_type": "display_data",
          "data": {
            "text/html": [
              "<style>\n",
              ".dl-inline {width: auto; margin:0; padding: 0}\n",
              ".dl-inline>dt, .dl-inline>dd {float: none; width: auto; display: inline-block}\n",
              ".dl-inline>dt::after {content: \":\\0020\"; padding-right: .5ex}\n",
              ".dl-inline>dt:not(:first-of-type) {padding-left: .5ex}\n",
              "</style><dl class=dl-inline><dt>Animation</dt><dd>2</dd><dt>Comedy</dt><dd>2</dd><dt>Crime</dt><dd>1</dd></dl>\n"
            ],
            "text/markdown": "Animation\n:   2Comedy\n:   2Crime\n:   1\n\n",
            "text/latex": "\\begin{description*}\n\\item[Animation] 2\n\\item[Comedy] 2\n\\item[Crime] 1\n\\end{description*}\n",
            "text/plain": [
              "Animation    Comedy     Crime \n",
              "        2         2         1 "
            ]
          },
          "metadata": {}
        }
      ],
      "source": [
        "summary(genre_factor)"
      ]
    },
    {
      "cell_type": "markdown",
      "metadata": {
        "id": "bv2IW5nTGnTX"
      },
      "source": [
        "And recall that you can sort the values of the table using **sort()**.\n"
      ]
    },
    {
      "cell_type": "code",
      "execution_count": 83,
      "metadata": {
        "colab": {
          "base_uri": "https://localhost:8080/",
          "height": 0
        },
        "id": "GeukOz7_GnTY",
        "outputId": "c7a17db2-fe1f-4bd3-8c58-f3455735da68"
      },
      "outputs": [
        {
          "output_type": "display_data",
          "data": {
            "text/html": [
              "<style>\n",
              ".dl-inline {width: auto; margin:0; padding: 0}\n",
              ".dl-inline>dt, .dl-inline>dd {float: none; width: auto; display: inline-block}\n",
              ".dl-inline>dt::after {content: \":\\0020\"; padding-right: .5ex}\n",
              ".dl-inline>dt:not(:first-of-type) {padding-left: .5ex}\n",
              "</style><dl class=dl-inline><dt>Crime</dt><dd>1</dd><dt>Animation</dt><dd>2</dd><dt>Comedy</dt><dd>2</dd></dl>\n"
            ],
            "text/markdown": "Crime\n:   1Animation\n:   2Comedy\n:   2\n\n",
            "text/latex": "\\begin{description*}\n\\item[Crime] 1\n\\item[Animation] 2\n\\item[Comedy] 2\n\\end{description*}\n",
            "text/plain": [
              "    Crime Animation    Comedy \n",
              "        1         2         2 "
            ]
          },
          "metadata": {}
        }
      ],
      "source": [
        "sort(summary(genre_factor)) #sorts values by ascending order"
      ]
    },
    {
      "cell_type": "markdown",
      "metadata": {
        "id": "a2ZxLNRlGnTZ"
      },
      "source": [
        "### Ordered factors\n"
      ]
    },
    {
      "cell_type": "markdown",
      "metadata": {
        "id": "UDQbIdjSGnTa"
      },
      "source": [
        "There are two types of categorical variables: a **nominal categorical variable** and an **ordinal categorical variable**.\n",
        "\n",
        "A **nominal variable** is a categorical variable for names, without an implied order. This means that it is impossible to say that 'one is better or larger than the other'. For example, consider **movie genre** with the categories *Comedy*, *Animation*, *Crime*, *Comedy*, *Animation*. Here, there is no implicit order of low-to-high or high-to-low between the categories.\n",
        "\n",
        "In contrast, **ordinal variables** do have a natural ordering. Consider for example, **movie length** with the categories: *Very short*, *Short* , *Medium*, *Long*, *Very long*. Here it is obvious that *Medium* stands above *Short*, and *Long* stands above *Medium*.\n"
      ]
    },
    {
      "cell_type": "code",
      "execution_count": 84,
      "metadata": {
        "colab": {
          "base_uri": "https://localhost:8080/",
          "height": 34
        },
        "id": "jdpl40ynGnTa",
        "outputId": "9e6c5cd7-bce1-41c3-b22f-ce27e35a6aea"
      },
      "outputs": [
        {
          "output_type": "display_data",
          "data": {
            "text/html": [
              "<style>\n",
              ".list-inline {list-style: none; margin:0; padding: 0}\n",
              ".list-inline>li {display: inline-block}\n",
              ".list-inline>li:not(:last-child)::after {content: \"\\00b7\"; padding: 0 .5ex}\n",
              "</style>\n",
              "<ol class=list-inline><li>'Very Short'</li><li>'Short'</li><li>'Medium'</li><li>'Short'</li><li>'Long'</li><li>'Very Short'</li><li>'Very Long'</li></ol>\n"
            ],
            "text/markdown": "1. 'Very Short'\n2. 'Short'\n3. 'Medium'\n4. 'Short'\n5. 'Long'\n6. 'Very Short'\n7. 'Very Long'\n\n\n",
            "text/latex": "\\begin{enumerate*}\n\\item 'Very Short'\n\\item 'Short'\n\\item 'Medium'\n\\item 'Short'\n\\item 'Long'\n\\item 'Very Short'\n\\item 'Very Long'\n\\end{enumerate*}\n",
            "text/plain": [
              "[1] \"Very Short\" \"Short\"      \"Medium\"     \"Short\"      \"Long\"      \n",
              "[6] \"Very Short\" \"Very Long\" "
            ]
          },
          "metadata": {}
        }
      ],
      "source": [
        "movie_length <- c(\"Very Short\", \"Short\", \"Medium\",\"Short\", \"Long\",\n",
        "                        \"Very Short\", \"Very Long\")\n",
        "movie_length"
      ]
    },
    {
      "cell_type": "markdown",
      "metadata": {
        "id": "Jw2Fm4TFGnTb"
      },
      "source": [
        "**`movie_length`** should be converted to an ordinal factor since its categories have a natural ordering. By default, the function <b>factor()</b> transforms `movie_length` into an unordered factor.\n",
        "\n",
        "To create an **ordered factor**, you have to add two additional arguments: `ordered` and `levels`.\n",
        "\n",
        "*   `ordered`: When set to `TRUE` in `factor()`, you indicate that the factor is ordered.\n",
        "*   `levels`: In this argument in `factor()`, you give the values of the factor in the correct order.\n"
      ]
    },
    {
      "cell_type": "code",
      "execution_count": 85,
      "metadata": {
        "colab": {
          "base_uri": "https://localhost:8080/",
          "height": 52
        },
        "id": "lU8BckiBGnTc",
        "outputId": "6f053651-151b-42d6-daf3-5aec06cec1d8"
      },
      "outputs": [
        {
          "output_type": "display_data",
          "data": {
            "text/html": [
              "<style>\n",
              ".list-inline {list-style: none; margin:0; padding: 0}\n",
              ".list-inline>li {display: inline-block}\n",
              ".list-inline>li:not(:last-child)::after {content: \"\\00b7\"; padding: 0 .5ex}\n",
              "</style>\n",
              "<ol class=list-inline><li>Very Short</li><li>Short</li><li>Medium</li><li>Short</li><li>Long</li><li>Very Short</li><li>Very Long</li></ol>\n",
              "\n",
              "<details>\n",
              "\t<summary style=display:list-item;cursor:pointer>\n",
              "\t\t<strong>Levels</strong>:\n",
              "\t</summary>\n",
              "\t<style>\n",
              "\t.list-inline {list-style: none; margin:0; padding: 0}\n",
              "\t.list-inline>li {display: inline-block}\n",
              "\t.list-inline>li:not(:last-child)::after {content: \"\\00b7\"; padding: 0 .5ex}\n",
              "\t</style>\n",
              "\t<ol class=list-inline><li>'Very Short'</li><li>'Short'</li><li>'Medium'</li><li>'Long'</li><li>'Very Long'</li></ol>\n",
              "</details>"
            ],
            "text/markdown": "1. Very Short\n2. Short\n3. Medium\n4. Short\n5. Long\n6. Very Short\n7. Very Long\n\n\n\n**Levels**: 1. 'Very Short'\n2. 'Short'\n3. 'Medium'\n4. 'Long'\n5. 'Very Long'\n\n\n",
            "text/latex": "\\begin{enumerate*}\n\\item Very Short\n\\item Short\n\\item Medium\n\\item Short\n\\item Long\n\\item Very Short\n\\item Very Long\n\\end{enumerate*}\n\n\\emph{Levels}: \\begin{enumerate*}\n\\item 'Very Short'\n\\item 'Short'\n\\item 'Medium'\n\\item 'Long'\n\\item 'Very Long'\n\\end{enumerate*}\n",
            "text/plain": [
              "[1] Very Short Short      Medium     Short      Long       Very Short Very Long \n",
              "Levels: Very Short < Short < Medium < Long < Very Long"
            ]
          },
          "metadata": {}
        }
      ],
      "source": [
        "movie_length_ordered <- factor(movie_length, ordered = TRUE , \n",
        "                                 levels = c(\"Very Short\" , \"Short\" , \"Medium\", \n",
        "                                            \"Long\",\"Very Long\"))\n",
        "movie_length_ordered"
      ]
    },
    {
      "cell_type": "markdown",
      "metadata": {
        "id": "4psfFCHPGnTc"
      },
      "source": [
        "Now, lets look at the summary of the ordered factor, <b>factor_mvlength_vector</b>:\n"
      ]
    },
    {
      "cell_type": "code",
      "execution_count": 86,
      "metadata": {
        "scrolled": true,
        "colab": {
          "base_uri": "https://localhost:8080/",
          "height": 34
        },
        "id": "ZCChfWAeGnTd",
        "outputId": "49fcb5c5-b3d3-4417-cc51-c417b0491804"
      },
      "outputs": [
        {
          "output_type": "display_data",
          "data": {
            "text/html": [
              "<style>\n",
              ".dl-inline {width: auto; margin:0; padding: 0}\n",
              ".dl-inline>dt, .dl-inline>dd {float: none; width: auto; display: inline-block}\n",
              ".dl-inline>dt::after {content: \":\\0020\"; padding-right: .5ex}\n",
              ".dl-inline>dt:not(:first-of-type) {padding-left: .5ex}\n",
              "</style><dl class=dl-inline><dt>Very Short</dt><dd>2</dd><dt>Short</dt><dd>2</dd><dt>Medium</dt><dd>1</dd><dt>Long</dt><dd>1</dd><dt>Very Long</dt><dd>1</dd></dl>\n"
            ],
            "text/markdown": "Very Short\n:   2Short\n:   2Medium\n:   1Long\n:   1Very Long\n:   1\n\n",
            "text/latex": "\\begin{description*}\n\\item[Very Short] 2\n\\item[Short] 2\n\\item[Medium] 1\n\\item[Long] 1\n\\item[Very Long] 1\n\\end{description*}\n",
            "text/plain": [
              "Very Short      Short     Medium       Long  Very Long \n",
              "         2          2          1          1          1 "
            ]
          },
          "metadata": {}
        }
      ],
      "source": [
        "summary(movie_length_ordered)"
      ]
    },
    {
      "cell_type": "markdown",
      "metadata": {
        "id": "F0yFk1JcGnTe"
      },
      "source": [
        "<hr>\n"
      ]
    },
    {
      "cell_type": "markdown",
      "metadata": {
        "id": "bhC3oMdcGnTe"
      },
      "source": [
        "#### Scaling R with big data\n",
        "\n",
        "As you learn more about R, if you are interested in exploring platforms that can help you run analyses at scale, you might want to sign up for a free account on [IBM Watson Studio](http://cocl.us/dsx_rp0101en), which allows you to run analyses in R with two Spark executors for free.\n"
      ]
    },
    {
      "cell_type": "markdown",
      "metadata": {
        "id": "lGhDpRdPGnTf"
      },
      "source": [
        "<hr>\n",
        "### About the Author:  \n",
        "Hi! It's [Helly Patel](https://ca.linkedin.com/in/helly-patel-90344750), the author of this notebook. I hope you found R easy to learn! There's lots more to learn about R but you're well on your way. Feel free to connect with me if you have any questions.\n",
        "\n",
        "<hr>\n",
        "Copyright &copy; [IBM Cognitive Class](https://cognitiveclass.ai). This notebook and its source code are released under the terms of the [MIT License](https://cognitiveclass.ai/mit-license/).\n"
      ]
    }
  ],
  "metadata": {
    "kernelspec": {
      "display_name": "R",
      "language": "R",
      "name": "ir"
    },
    "language_info": {
      "codemirror_mode": "r",
      "file_extension": ".r",
      "mimetype": "text/x-r-source",
      "name": "R",
      "pygments_lexer": "r",
      "version": "3.5.0"
    },
    "colab": {
      "provenance": [],
      "include_colab_link": true
    }
  },
  "nbformat": 4,
  "nbformat_minor": 0
}